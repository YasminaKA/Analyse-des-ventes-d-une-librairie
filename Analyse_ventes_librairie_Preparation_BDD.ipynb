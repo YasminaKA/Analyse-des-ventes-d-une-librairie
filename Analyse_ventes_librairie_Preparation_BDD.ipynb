{
 "cells": [
  {
   "cell_type": "markdown",
   "id": "98b7d7cf",
   "metadata": {},
   "source": [
    " PROJET 6 : ANALYSEZ LES VENTES D'UNE LIBRAIRIE"
   ]
  },
  {
   "cell_type": "markdown",
   "id": "3821b7b1",
   "metadata": {},
   "source": [
    "# IMPORTER LES LIBRAIRIES ET LES DONNEES"
   ]
  },
  {
   "cell_type": "code",
   "execution_count": 56,
   "id": "05ad1720",
   "metadata": {},
   "outputs": [],
   "source": [
    "import pandas as pd\n",
    "import numpy as np\n",
    "import matplotlib.pyplot as plt\n",
    "import seaborn as sns\n",
    "import scipy.stats as stats\n",
    "import datetime\n"
   ]
  },
  {
   "cell_type": "code",
   "execution_count": 57,
   "id": "911af4e4",
   "metadata": {},
   "outputs": [],
   "source": [
    "products = pd.read_csv('products.csv')\n",
    "transactions = pd.read_csv('transactions.csv')\n",
    "customers = pd.read_csv('customers.csv')"
   ]
  },
  {
   "cell_type": "markdown",
   "id": "06e26916",
   "metadata": {},
   "source": [
    "# EXPLORER LES FICHIERS"
   ]
  },
  {
   "cell_type": "markdown",
   "id": "4b195d68",
   "metadata": {},
   "source": [
    "## DF CUSTOMERS"
   ]
  },
  {
   "cell_type": "code",
   "execution_count": 58,
   "id": "ea0c0c3f",
   "metadata": {},
   "outputs": [
    {
     "data": {
      "text/html": [
       "<div>\n",
       "<style scoped>\n",
       "    .dataframe tbody tr th:only-of-type {\n",
       "        vertical-align: middle;\n",
       "    }\n",
       "\n",
       "    .dataframe tbody tr th {\n",
       "        vertical-align: top;\n",
       "    }\n",
       "\n",
       "    .dataframe thead th {\n",
       "        text-align: right;\n",
       "    }\n",
       "</style>\n",
       "<table border=\"1\" class=\"dataframe\">\n",
       "  <thead>\n",
       "    <tr style=\"text-align: right;\">\n",
       "      <th></th>\n",
       "      <th>client_id</th>\n",
       "      <th>sex</th>\n",
       "      <th>birth</th>\n",
       "    </tr>\n",
       "  </thead>\n",
       "  <tbody>\n",
       "    <tr>\n",
       "      <th>0</th>\n",
       "      <td>c_4410</td>\n",
       "      <td>f</td>\n",
       "      <td>1967</td>\n",
       "    </tr>\n",
       "    <tr>\n",
       "      <th>1</th>\n",
       "      <td>c_7839</td>\n",
       "      <td>f</td>\n",
       "      <td>1975</td>\n",
       "    </tr>\n",
       "    <tr>\n",
       "      <th>2</th>\n",
       "      <td>c_1699</td>\n",
       "      <td>f</td>\n",
       "      <td>1984</td>\n",
       "    </tr>\n",
       "    <tr>\n",
       "      <th>3</th>\n",
       "      <td>c_5961</td>\n",
       "      <td>f</td>\n",
       "      <td>1962</td>\n",
       "    </tr>\n",
       "    <tr>\n",
       "      <th>4</th>\n",
       "      <td>c_5320</td>\n",
       "      <td>m</td>\n",
       "      <td>1943</td>\n",
       "    </tr>\n",
       "  </tbody>\n",
       "</table>\n",
       "</div>"
      ],
      "text/plain": [
       "  client_id sex  birth\n",
       "0    c_4410   f   1967\n",
       "1    c_7839   f   1975\n",
       "2    c_1699   f   1984\n",
       "3    c_5961   f   1962\n",
       "4    c_5320   m   1943"
      ]
     },
     "execution_count": 58,
     "metadata": {},
     "output_type": "execute_result"
    }
   ],
   "source": [
    "customers.head()"
   ]
  },
  {
   "cell_type": "code",
   "execution_count": 59,
   "id": "22db78d6",
   "metadata": {},
   "outputs": [
    {
     "name": "stdout",
     "output_type": "stream",
     "text": [
      "<class 'pandas.core.frame.DataFrame'>\n",
      "RangeIndex: 8623 entries, 0 to 8622\n",
      "Data columns (total 3 columns):\n",
      " #   Column     Non-Null Count  Dtype \n",
      "---  ------     --------------  ----- \n",
      " 0   client_id  8623 non-null   object\n",
      " 1   sex        8623 non-null   object\n",
      " 2   birth      8623 non-null   int64 \n",
      "dtypes: int64(1), object(2)\n",
      "memory usage: 202.2+ KB\n"
     ]
    }
   ],
   "source": [
    "customers.info()"
   ]
  },
  {
   "cell_type": "markdown",
   "id": "6eee3be3",
   "metadata": {},
   "source": [
    "### Identifier le nb de valeurs unique"
   ]
  },
  {
   "cell_type": "code",
   "execution_count": 60,
   "id": "8d427e1d",
   "metadata": {},
   "outputs": [
    {
     "name": "stdout",
     "output_type": "stream",
     "text": [
      "client_id    8623\n",
      "sex             2\n",
      "birth          76\n",
      "dtype: int64\n"
     ]
    }
   ],
   "source": [
    "def val_unique(x):\n",
    "    return(x.nunique())\n",
    "\n",
    "print(customers.apply(val_unique, axis = 0))"
   ]
  },
  {
   "cell_type": "markdown",
   "id": "0d743f6a",
   "metadata": {},
   "source": [
    "### Détecter des valeurs nulles"
   ]
  },
  {
   "cell_type": "code",
   "execution_count": 61,
   "id": "d33197df",
   "metadata": {},
   "outputs": [
    {
     "name": "stdout",
     "output_type": "stream",
     "text": [
      "client_id    0\n",
      "sex          0\n",
      "birth        0\n",
      "dtype: int64\n"
     ]
    }
   ],
   "source": [
    "def num_missing(x):\n",
    "    return sum(x.isnull())\n",
    "print(customers.apply(num_missing, axis = 0))"
   ]
  },
  {
   "cell_type": "markdown",
   "id": "6eb9ffbb",
   "metadata": {},
   "source": [
    "### Détecter les valeurs dupliquées"
   ]
  },
  {
   "cell_type": "code",
   "execution_count": 62,
   "id": "453e49b0",
   "metadata": {},
   "outputs": [
    {
     "name": "stdout",
     "output_type": "stream",
     "text": [
      "client_id       0\n",
      "sex          8621\n",
      "birth        8547\n",
      "dtype: int64\n"
     ]
    }
   ],
   "source": [
    "def duplicated(x):\n",
    "    return sum(x.duplicated())\n",
    "print(customers.apply(duplicated))"
   ]
  },
  {
   "cell_type": "markdown",
   "id": "1924d626",
   "metadata": {},
   "source": [
    "### Vérifier si la clé est unique"
   ]
  },
  {
   "cell_type": "code",
   "execution_count": 63,
   "id": "df0fb102",
   "metadata": {},
   "outputs": [
    {
     "name": "stdout",
     "output_type": "stream",
     "text": [
      "La clé est unique.\n"
     ]
    }
   ],
   "source": [
    "def unicite_cle(x):\n",
    "    if len(x.unique()) == (x.count()) : \n",
    "        print('La clé est unique.')\n",
    "    else : \n",
    "        print('La clé n\\'est pas unique.')\n",
    "x = customers.client_id\n",
    "\n",
    "unicite_cle(x)"
   ]
  },
  {
   "cell_type": "markdown",
   "id": "d903401c",
   "metadata": {},
   "source": [
    "### Focus sur le nb de clients et leur genre "
   ]
  },
  {
   "cell_type": "code",
   "execution_count": 64,
   "id": "ddd52020",
   "metadata": {},
   "outputs": [
    {
     "name": "stdout",
     "output_type": "stream",
     "text": [
      "La boutique Lapage recense 8623 clients.\n"
     ]
    }
   ],
   "source": [
    "client_total = customers.client_id.count()\n",
    "print('La boutique Lapage recense',client_total,'clients.')"
   ]
  },
  {
   "cell_type": "code",
   "execution_count": 65,
   "id": "f2200097",
   "metadata": {},
   "outputs": [],
   "source": [
    "client_f = customers[customers['sex']=='f']\n",
    "total_f = client_f.client_id.count()"
   ]
  },
  {
   "cell_type": "code",
   "execution_count": 66,
   "id": "768fd55b",
   "metadata": {},
   "outputs": [],
   "source": [
    "client_m = customers[customers['sex']=='m']\n",
    "total_m = client_m.client_id.count()"
   ]
  },
  {
   "cell_type": "code",
   "execution_count": 67,
   "id": "1aaa8ffb",
   "metadata": {},
   "outputs": [
    {
     "name": "stdout",
     "output_type": "stream",
     "text": [
      "Le pourcentage de clients de sexe féminin est de 52.08\n"
     ]
    }
   ],
   "source": [
    "print('Le pourcentage de clients de sexe féminin est de', round((total_f/client_total)*100,2))"
   ]
  },
  {
   "cell_type": "code",
   "execution_count": 68,
   "id": "b10ee3cd",
   "metadata": {},
   "outputs": [
    {
     "name": "stdout",
     "output_type": "stream",
     "text": [
      "Le pourcentage de clients de sexe masculin est de 47.92\n"
     ]
    }
   ],
   "source": [
    "print('Le pourcentage de clients de sexe masculin est de', round((total_m/client_total)*100,2))"
   ]
  },
  {
   "cell_type": "code",
   "execution_count": 69,
   "id": "ff6539b4",
   "metadata": {},
   "outputs": [
    {
     "data": {
      "image/png": "[encoded data removed]",
      "text/plain": [
       "<Figure size 720x432 with 1 Axes>"
      ]
     },
     "metadata": {},
     "output_type": "display_data"
    }
   ],
   "source": [
    "plt.figure(figsize=(10,6))\n",
    "parts_clients = [total_m, total_f]\n",
    "plt.pie(parts_clients, labels = ['Hommes', 'Femmes'], autopct = lambda parts_clients: str(round(parts_clients,2)) + '%' )\n",
    "plt.title('Répartition des clients par genre', fontsize = 14)\n",
    "plt.show()"
   ]
  },
  {
   "cell_type": "markdown",
   "id": "ba78fb82",
   "metadata": {},
   "source": [
    "> La librairie LAPAGE compte davantage de clients de sexe féminin que de sexe masculin.\n",
    "\n",
    "> Les femmes sont ***4.16%*** supérieures aux hommes. "
   ]
  },
  {
   "cell_type": "markdown",
   "id": "887d7c2b",
   "metadata": {},
   "source": [
    "### Définir l'âge des clients"
   ]
  },
  {
   "cell_type": "code",
   "execution_count": 70,
   "id": "fd8baba1",
   "metadata": {},
   "outputs": [],
   "source": [
    "def age (x): \n",
    "    naissance = x\n",
    "    annee_actuelle = 2022\n",
    "    return annee_actuelle - naissance\n",
    "\n",
    "customers['age'] = customers['birth'].apply(age)"
   ]
  },
  {
   "cell_type": "code",
   "execution_count": 71,
   "id": "f64e3e25",
   "metadata": {},
   "outputs": [
    {
     "data": {
      "text/html": [
       "<div>\n",
       "<style scoped>\n",
       "    .dataframe tbody tr th:only-of-type {\n",
       "        vertical-align: middle;\n",
       "    }\n",
       "\n",
       "    .dataframe tbody tr th {\n",
       "        vertical-align: top;\n",
       "    }\n",
       "\n",
       "    .dataframe thead th {\n",
       "        text-align: right;\n",
       "    }\n",
       "</style>\n",
       "<table border=\"1\" class=\"dataframe\">\n",
       "  <thead>\n",
       "    <tr style=\"text-align: right;\">\n",
       "      <th></th>\n",
       "      <th>client_id</th>\n",
       "      <th>sex</th>\n",
       "      <th>birth</th>\n",
       "      <th>age</th>\n",
       "    </tr>\n",
       "  </thead>\n",
       "  <tbody>\n",
       "    <tr>\n",
       "      <th>0</th>\n",
       "      <td>c_4410</td>\n",
       "      <td>f</td>\n",
       "      <td>1967</td>\n",
       "      <td>55</td>\n",
       "    </tr>\n",
       "    <tr>\n",
       "      <th>1</th>\n",
       "      <td>c_7839</td>\n",
       "      <td>f</td>\n",
       "      <td>1975</td>\n",
       "      <td>47</td>\n",
       "    </tr>\n",
       "    <tr>\n",
       "      <th>2</th>\n",
       "      <td>c_1699</td>\n",
       "      <td>f</td>\n",
       "      <td>1984</td>\n",
       "      <td>38</td>\n",
       "    </tr>\n",
       "    <tr>\n",
       "      <th>3</th>\n",
       "      <td>c_5961</td>\n",
       "      <td>f</td>\n",
       "      <td>1962</td>\n",
       "      <td>60</td>\n",
       "    </tr>\n",
       "    <tr>\n",
       "      <th>4</th>\n",
       "      <td>c_5320</td>\n",
       "      <td>m</td>\n",
       "      <td>1943</td>\n",
       "      <td>79</td>\n",
       "    </tr>\n",
       "  </tbody>\n",
       "</table>\n",
       "</div>"
      ],
      "text/plain": [
       "  client_id sex  birth  age\n",
       "0    c_4410   f   1967   55\n",
       "1    c_7839   f   1975   47\n",
       "2    c_1699   f   1984   38\n",
       "3    c_5961   f   1962   60\n",
       "4    c_5320   m   1943   79"
      ]
     },
     "execution_count": 71,
     "metadata": {},
     "output_type": "execute_result"
    }
   ],
   "source": [
    "customers.head()"
   ]
  },
  {
   "cell_type": "code",
   "execution_count": 72,
   "id": "881f1512",
   "metadata": {},
   "outputs": [
    {
     "name": "stdout",
     "output_type": "stream",
     "text": [
      "Le client le plus jeune a 18 ans.\n",
      "Le client le plus agé a 93 ans.\n"
     ]
    }
   ],
   "source": [
    "print('Le client le plus jeune a', customers.age.min(), 'ans.')\n",
    "print('Le client le plus agé a', customers.age.max(), 'ans.')"
   ]
  },
  {
   "cell_type": "markdown",
   "id": "bc82888f",
   "metadata": {},
   "source": [
    "### Créer des tranches d'âges"
   ]
  },
  {
   "cell_type": "code",
   "execution_count": 73,
   "id": "fd6a7164",
   "metadata": {},
   "outputs": [],
   "source": [
    "customers['tranche_age'] = pd.cut(x=customers['age'], bins=[17,25,35,45,55,65,75,85, 95], \n",
    "                                  labels = ['18 à 25', '26 à 35', '36 à 45', '46 à 55', '56 à 65', '66 à 75', '76 à 85', '85+'])"
   ]
  },
  {
   "cell_type": "code",
   "execution_count": 74,
   "id": "bad41fd1",
   "metadata": {},
   "outputs": [
    {
     "data": {
      "text/html": [
       "<div>\n",
       "<style scoped>\n",
       "    .dataframe tbody tr th:only-of-type {\n",
       "        vertical-align: middle;\n",
       "    }\n",
       "\n",
       "    .dataframe tbody tr th {\n",
       "        vertical-align: top;\n",
       "    }\n",
       "\n",
       "    .dataframe thead th {\n",
       "        text-align: right;\n",
       "    }\n",
       "</style>\n",
       "<table border=\"1\" class=\"dataframe\">\n",
       "  <thead>\n",
       "    <tr style=\"text-align: right;\">\n",
       "      <th></th>\n",
       "      <th>client_id</th>\n",
       "      <th>sex</th>\n",
       "      <th>birth</th>\n",
       "      <th>age</th>\n",
       "      <th>tranche_age</th>\n",
       "    </tr>\n",
       "  </thead>\n",
       "  <tbody>\n",
       "    <tr>\n",
       "      <th>0</th>\n",
       "      <td>c_4410</td>\n",
       "      <td>f</td>\n",
       "      <td>1967</td>\n",
       "      <td>55</td>\n",
       "      <td>46 à 55</td>\n",
       "    </tr>\n",
       "    <tr>\n",
       "      <th>1</th>\n",
       "      <td>c_7839</td>\n",
       "      <td>f</td>\n",
       "      <td>1975</td>\n",
       "      <td>47</td>\n",
       "      <td>46 à 55</td>\n",
       "    </tr>\n",
       "  </tbody>\n",
       "</table>\n",
       "</div>"
      ],
      "text/plain": [
       "  client_id sex  birth  age tranche_age\n",
       "0    c_4410   f   1967   55     46 à 55\n",
       "1    c_7839   f   1975   47     46 à 55"
      ]
     },
     "execution_count": 74,
     "metadata": {},
     "output_type": "execute_result"
    }
   ],
   "source": [
    "customers.head(2)"
   ]
  },
  {
   "cell_type": "markdown",
   "id": "05a633c9",
   "metadata": {},
   "source": [
    "#### Répartition par âge"
   ]
  },
  {
   "cell_type": "code",
   "execution_count": 75,
   "id": "e104ba4b",
   "metadata": {},
   "outputs": [
    {
     "data": {
      "text/html": [
       "<div>\n",
       "<style scoped>\n",
       "    .dataframe tbody tr th:only-of-type {\n",
       "        vertical-align: middle;\n",
       "    }\n",
       "\n",
       "    .dataframe tbody tr th {\n",
       "        vertical-align: top;\n",
       "    }\n",
       "\n",
       "    .dataframe thead th {\n",
       "        text-align: right;\n",
       "    }\n",
       "</style>\n",
       "<table border=\"1\" class=\"dataframe\">\n",
       "  <thead>\n",
       "    <tr style=\"text-align: right;\">\n",
       "      <th></th>\n",
       "      <th>age</th>\n",
       "      <th>client_id</th>\n",
       "      <th>sex</th>\n",
       "      <th>birth</th>\n",
       "      <th>tranche_age</th>\n",
       "    </tr>\n",
       "  </thead>\n",
       "  <tbody>\n",
       "    <tr>\n",
       "      <th>0</th>\n",
       "      <td>18</td>\n",
       "      <td>440</td>\n",
       "      <td>440</td>\n",
       "      <td>440</td>\n",
       "      <td>440</td>\n",
       "    </tr>\n",
       "    <tr>\n",
       "      <th>25</th>\n",
       "      <td>43</td>\n",
       "      <td>215</td>\n",
       "      <td>215</td>\n",
       "      <td>215</td>\n",
       "      <td>215</td>\n",
       "    </tr>\n",
       "    <tr>\n",
       "      <th>16</th>\n",
       "      <td>34</td>\n",
       "      <td>207</td>\n",
       "      <td>207</td>\n",
       "      <td>207</td>\n",
       "      <td>207</td>\n",
       "    </tr>\n",
       "    <tr>\n",
       "      <th>18</th>\n",
       "      <td>36</td>\n",
       "      <td>203</td>\n",
       "      <td>203</td>\n",
       "      <td>203</td>\n",
       "      <td>203</td>\n",
       "    </tr>\n",
       "    <tr>\n",
       "      <th>26</th>\n",
       "      <td>44</td>\n",
       "      <td>199</td>\n",
       "      <td>199</td>\n",
       "      <td>199</td>\n",
       "      <td>199</td>\n",
       "    </tr>\n",
       "    <tr>\n",
       "      <th>24</th>\n",
       "      <td>42</td>\n",
       "      <td>191</td>\n",
       "      <td>191</td>\n",
       "      <td>191</td>\n",
       "      <td>191</td>\n",
       "    </tr>\n",
       "    <tr>\n",
       "      <th>22</th>\n",
       "      <td>40</td>\n",
       "      <td>191</td>\n",
       "      <td>191</td>\n",
       "      <td>191</td>\n",
       "      <td>191</td>\n",
       "    </tr>\n",
       "    <tr>\n",
       "      <th>12</th>\n",
       "      <td>30</td>\n",
       "      <td>188</td>\n",
       "      <td>188</td>\n",
       "      <td>188</td>\n",
       "      <td>188</td>\n",
       "    </tr>\n",
       "    <tr>\n",
       "      <th>36</th>\n",
       "      <td>54</td>\n",
       "      <td>181</td>\n",
       "      <td>181</td>\n",
       "      <td>181</td>\n",
       "      <td>181</td>\n",
       "    </tr>\n",
       "    <tr>\n",
       "      <th>8</th>\n",
       "      <td>26</td>\n",
       "      <td>179</td>\n",
       "      <td>179</td>\n",
       "      <td>179</td>\n",
       "      <td>179</td>\n",
       "    </tr>\n",
       "  </tbody>\n",
       "</table>\n",
       "</div>"
      ],
      "text/plain": [
       "    age  client_id  sex  birth  tranche_age\n",
       "0    18        440  440    440          440\n",
       "25   43        215  215    215          215\n",
       "16   34        207  207    207          207\n",
       "18   36        203  203    203          203\n",
       "26   44        199  199    199          199\n",
       "24   42        191  191    191          191\n",
       "22   40        191  191    191          191\n",
       "12   30        188  188    188          188\n",
       "36   54        181  181    181          181\n",
       "8    26        179  179    179          179"
      ]
     },
     "execution_count": 75,
     "metadata": {},
     "output_type": "execute_result"
    }
   ],
   "source": [
    "nb_client_par_age = customers.groupby(['age']).count().reset_index()\n",
    "nb_client_par_age.sort_values('client_id',ascending=False, inplace = True)\n",
    "nb_client_par_age.head(10)"
   ]
  },
  {
   "cell_type": "code",
   "execution_count": 76,
   "id": "03868deb",
   "metadata": {},
   "outputs": [
    {
     "data": {
      "image/png": "[encoded data removed]",
      "text/plain": [
       "<Figure size 720x360 with 1 Axes>"
      ]
     },
     "metadata": {
      "needs_background": "light"
     },
     "output_type": "display_data"
    }
   ],
   "source": [
    "plt.figure(figsize =(10,5))\n",
    "sns.barplot (x = nb_client_par_age.iloc[0:9]['client_id'],\n",
    "            y = nb_client_par_age.iloc[0:9]['age'], palette = 'Blues_r', orient = 'h')\n",
    "plt.xlabel('\\nNombre de clients', fontsize=15, color = 'black')\n",
    "plt.ylabel('Age\\n', fontsize =15, color = 'black')\n",
    "plt.title(\"Top 10 du nb de clients par âge\", fontsize = 22, color = 'b')\n",
    "plt.tight_layout()"
   ]
  },
  {
   "cell_type": "code",
   "execution_count": 155,
   "id": "0b878355",
   "metadata": {},
   "outputs": [
    {
     "data": {
      "text/plain": [
       "<Figure size 4320x2160 with 0 Axes>"
      ]
     },
     "metadata": {},
     "output_type": "display_data"
    },
    {
     "data": {
      "image/png": "[encoded data removed]",
      "text/plain": [
       "<Figure size 432x288 with 1 Axes>"
      ]
     },
     "metadata": {
      "needs_background": "light"
     },
     "output_type": "display_data"
    }
   ],
   "source": [
    "plt.figure(figsize =(60,30))\n",
    "\n",
    "nb_client_par_age.plot(x='age', \n",
    "                       y='client_id', \n",
    "                       kind = 'scatter',\n",
    "                       c='DarkBlue', \n",
    "                       title = \"Répartition des clients par âge\", \n",
    "                       xlabel = 'Age',\n",
    "                      ylabel = 'Nombre de clients')\n",
    "plt.show();"
   ]
  },
  {
   "cell_type": "markdown",
   "id": "b3416c74",
   "metadata": {},
   "source": [
    "> Les clients les plus nombreux de la librairie ont 18 ans."
   ]
  },
  {
   "cell_type": "markdown",
   "id": "b94decce",
   "metadata": {},
   "source": [
    "#### Proportion des clients par âge"
   ]
  },
  {
   "cell_type": "code",
   "execution_count": 78,
   "id": "e3a3ebb4",
   "metadata": {},
   "outputs": [
    {
     "data": {
      "text/html": [
       "<div>\n",
       "<style scoped>\n",
       "    .dataframe tbody tr th:only-of-type {\n",
       "        vertical-align: middle;\n",
       "    }\n",
       "\n",
       "    .dataframe tbody tr th {\n",
       "        vertical-align: top;\n",
       "    }\n",
       "\n",
       "    .dataframe thead th {\n",
       "        text-align: right;\n",
       "    }\n",
       "</style>\n",
       "<table border=\"1\" class=\"dataframe\">\n",
       "  <thead>\n",
       "    <tr style=\"text-align: right;\">\n",
       "      <th></th>\n",
       "      <th>age</th>\n",
       "      <th>client_id</th>\n",
       "      <th>sex</th>\n",
       "      <th>birth</th>\n",
       "      <th>tranche_age</th>\n",
       "      <th>prop_age</th>\n",
       "    </tr>\n",
       "  </thead>\n",
       "  <tbody>\n",
       "    <tr>\n",
       "      <th>0</th>\n",
       "      <td>18</td>\n",
       "      <td>440</td>\n",
       "      <td>440</td>\n",
       "      <td>440</td>\n",
       "      <td>440</td>\n",
       "      <td>5.10</td>\n",
       "    </tr>\n",
       "    <tr>\n",
       "      <th>25</th>\n",
       "      <td>43</td>\n",
       "      <td>215</td>\n",
       "      <td>215</td>\n",
       "      <td>215</td>\n",
       "      <td>215</td>\n",
       "      <td>2.49</td>\n",
       "    </tr>\n",
       "    <tr>\n",
       "      <th>16</th>\n",
       "      <td>34</td>\n",
       "      <td>207</td>\n",
       "      <td>207</td>\n",
       "      <td>207</td>\n",
       "      <td>207</td>\n",
       "      <td>2.40</td>\n",
       "    </tr>\n",
       "  </tbody>\n",
       "</table>\n",
       "</div>"
      ],
      "text/plain": [
       "    age  client_id  sex  birth  tranche_age  prop_age\n",
       "0    18        440  440    440          440      5.10\n",
       "25   43        215  215    215          215      2.49\n",
       "16   34        207  207    207          207      2.40"
      ]
     },
     "execution_count": 78,
     "metadata": {},
     "output_type": "execute_result"
    }
   ],
   "source": [
    "nb_client_par_age['prop_age'] = round((nb_client_par_age['client_id']/client_total*100),2)\n",
    "nb_client_par_age.sort_values('prop_age', ascending = False).head(3)"
   ]
  },
  {
   "cell_type": "markdown",
   "id": "a727452e",
   "metadata": {},
   "source": [
    "#### Nombres de clients par tranche d'âge"
   ]
  },
  {
   "cell_type": "code",
   "execution_count": 79,
   "id": "aee228cc",
   "metadata": {},
   "outputs": [
    {
     "data": {
      "image/png": "[encoded data removed]",
      "text/plain": [
       "<Figure size 432x288 with 1 Axes>"
      ]
     },
     "metadata": {
      "needs_background": "light"
     },
     "output_type": "display_data"
    }
   ],
   "source": [
    "customers['tranche_age'].value_counts().plot(kind = 'barh')\n",
    "plt.title('Nombres de clients par tranche d\\'âge')\n",
    "plt.show;"
   ]
  },
  {
   "cell_type": "markdown",
   "id": "fefdcbd7",
   "metadata": {},
   "source": [
    "> La tranche d'âge qui compte le plus de clients est la tranche ***36-45 ans.*** "
   ]
  },
  {
   "cell_type": "markdown",
   "id": "82f9046d",
   "metadata": {},
   "source": [
    "#### Nombres de clients par tranche d'âge et par genre"
   ]
  },
  {
   "cell_type": "code",
   "execution_count": 80,
   "id": "3ddd8c6e",
   "metadata": {},
   "outputs": [],
   "source": [
    "df_sex_age = customers.groupby(['tranche_age', 'sex']).sex.count()\n",
    "df_m = customers[customers['sex'] == 'm']\n",
    "df_f = customers[customers['sex'] == 'f']"
   ]
  },
  {
   "cell_type": "code",
   "execution_count": 81,
   "id": "149579c1",
   "metadata": {},
   "outputs": [
    {
     "data": {
      "image/png": "[encoded data removed]",
      "text/plain": [
       "<Figure size 720x432 with 1 Axes>"
      ]
     },
     "metadata": {
      "needs_background": "light"
     },
     "output_type": "display_data"
    }
   ],
   "source": [
    "tranche = ['18 à 25', '26 à 35', '36 à 45', '46 à 55', '56 à 65', '66 à 75', '76 à 85', '85+']\n",
    "hommes = df_m.groupby(['tranche_age', 'sex']).sex.count()\n",
    "femmes = df_f.groupby(['tranche_age', 'sex']).sex.count()\n",
    "\n",
    "position = np.arange(len(tranche))\n",
    "\n",
    "largeur = .35\n",
    "\n",
    "fig, ax = plt.subplots(figsize=(10,6))\n",
    "r1 = ax.bar(position - largeur/2, hommes, largeur, label = 'h')\n",
    "r2 = ax.bar(position + largeur/2, femmes, largeur, color = \"purple\", label='f')\n",
    "\n",
    "plt.legend(loc='upper right')\n",
    "\n",
    "ax.set_xticks(position)\n",
    "ax.set_xticklabels(tranche);\n",
    "\n",
    "ax.set_title('Nombre de clients par genre et par tranche d\\'âge');"
   ]
  },
  {
   "cell_type": "markdown",
   "id": "04414160",
   "metadata": {},
   "source": [
    "> Parmi la tranche d'âge qui compte le plus de clients (36-45 ans), ***les femmes*** sont plus nombreuses que les hommes.\n",
    "\n",
    "> Les femmes sont plus nombreuses dans toutes les tranches d'âge excepté dans la ***tranche 56-65 ans.*** "
   ]
  },
  {
   "cell_type": "markdown",
   "id": "b3e2ce82",
   "metadata": {},
   "source": [
    "## DF PRODUCTS"
   ]
  },
  {
   "cell_type": "code",
   "execution_count": 82,
   "id": "563199b0",
   "metadata": {},
   "outputs": [
    {
     "data": {
      "text/html": [
       "<div>\n",
       "<style scoped>\n",
       "    .dataframe tbody tr th:only-of-type {\n",
       "        vertical-align: middle;\n",
       "    }\n",
       "\n",
       "    .dataframe tbody tr th {\n",
       "        vertical-align: top;\n",
       "    }\n",
       "\n",
       "    .dataframe thead th {\n",
       "        text-align: right;\n",
       "    }\n",
       "</style>\n",
       "<table border=\"1\" class=\"dataframe\">\n",
       "  <thead>\n",
       "    <tr style=\"text-align: right;\">\n",
       "      <th></th>\n",
       "      <th>id_prod</th>\n",
       "      <th>price</th>\n",
       "      <th>categ</th>\n",
       "    </tr>\n",
       "  </thead>\n",
       "  <tbody>\n",
       "    <tr>\n",
       "      <th>0</th>\n",
       "      <td>0_1421</td>\n",
       "      <td>19.99</td>\n",
       "      <td>0</td>\n",
       "    </tr>\n",
       "    <tr>\n",
       "      <th>1</th>\n",
       "      <td>0_1368</td>\n",
       "      <td>5.13</td>\n",
       "      <td>0</td>\n",
       "    </tr>\n",
       "    <tr>\n",
       "      <th>2</th>\n",
       "      <td>0_731</td>\n",
       "      <td>17.99</td>\n",
       "      <td>0</td>\n",
       "    </tr>\n",
       "    <tr>\n",
       "      <th>3</th>\n",
       "      <td>1_587</td>\n",
       "      <td>4.99</td>\n",
       "      <td>1</td>\n",
       "    </tr>\n",
       "    <tr>\n",
       "      <th>4</th>\n",
       "      <td>0_1507</td>\n",
       "      <td>3.99</td>\n",
       "      <td>0</td>\n",
       "    </tr>\n",
       "  </tbody>\n",
       "</table>\n",
       "</div>"
      ],
      "text/plain": [
       "  id_prod  price  categ\n",
       "0  0_1421  19.99      0\n",
       "1  0_1368   5.13      0\n",
       "2   0_731  17.99      0\n",
       "3   1_587   4.99      1\n",
       "4  0_1507   3.99      0"
      ]
     },
     "execution_count": 82,
     "metadata": {},
     "output_type": "execute_result"
    }
   ],
   "source": [
    "products.head()"
   ]
  },
  {
   "cell_type": "code",
   "execution_count": 83,
   "id": "ebbea9ec",
   "metadata": {},
   "outputs": [
    {
     "name": "stdout",
     "output_type": "stream",
     "text": [
      "<class 'pandas.core.frame.DataFrame'>\n",
      "RangeIndex: 3287 entries, 0 to 3286\n",
      "Data columns (total 3 columns):\n",
      " #   Column   Non-Null Count  Dtype  \n",
      "---  ------   --------------  -----  \n",
      " 0   id_prod  3287 non-null   object \n",
      " 1   price    3287 non-null   float64\n",
      " 2   categ    3287 non-null   int64  \n",
      "dtypes: float64(1), int64(1), object(1)\n",
      "memory usage: 77.2+ KB\n"
     ]
    }
   ],
   "source": [
    "products.info()"
   ]
  },
  {
   "cell_type": "markdown",
   "id": "9ad2f11e",
   "metadata": {},
   "source": [
    "### Identifier le nb de valeurs unique"
   ]
  },
  {
   "cell_type": "code",
   "execution_count": 84,
   "id": "04fb1067",
   "metadata": {},
   "outputs": [
    {
     "name": "stdout",
     "output_type": "stream",
     "text": [
      "id_prod    3287\n",
      "price      1455\n",
      "categ         3\n",
      "dtype: int64\n"
     ]
    }
   ],
   "source": [
    "print(products.apply(val_unique, axis = 0))"
   ]
  },
  {
   "cell_type": "markdown",
   "id": "8a4e8a4e",
   "metadata": {},
   "source": [
    "### Détecter les valeurs dupliquées\n"
   ]
  },
  {
   "cell_type": "code",
   "execution_count": 85,
   "id": "e7084d63",
   "metadata": {},
   "outputs": [
    {
     "name": "stdout",
     "output_type": "stream",
     "text": [
      "id_prod       0\n",
      "price      1832\n",
      "categ      3284\n",
      "dtype: int64\n"
     ]
    }
   ],
   "source": [
    "print(products.apply(duplicated, axis=0))"
   ]
  },
  {
   "cell_type": "markdown",
   "id": "5ecf43d6",
   "metadata": {},
   "source": [
    "### Vérifier si la clé est unique"
   ]
  },
  {
   "cell_type": "code",
   "execution_count": 86,
   "id": "47641c46",
   "metadata": {},
   "outputs": [
    {
     "name": "stdout",
     "output_type": "stream",
     "text": [
      "La clé est unique.\n"
     ]
    }
   ],
   "source": [
    "x = products.id_prod\n",
    "unicite_cle(x)"
   ]
  },
  {
   "cell_type": "markdown",
   "id": "02c83d6f",
   "metadata": {},
   "source": [
    "### Focus sur les produits \n"
   ]
  },
  {
   "cell_type": "code",
   "execution_count": 87,
   "id": "19c19f26",
   "metadata": {},
   "outputs": [
    {
     "data": {
      "image/png": "[encoded data removed]",
      "text/plain": [
       "<Figure size 432x288 with 1 Axes>"
      ]
     },
     "metadata": {
      "needs_background": "light"
     },
     "output_type": "display_data"
    }
   ],
   "source": [
    "products['categ'].value_counts().plot(kind = 'bar', title ='Répartition des produits par catégorie', xlabel = 'catégorie', ylabel = 'Nombre de produits')\n",
    "plt.xticks(rotation = 0);"
   ]
  },
  {
   "cell_type": "code",
   "execution_count": 88,
   "id": "bf10a72f",
   "metadata": {},
   "outputs": [],
   "source": [
    "categ_0 = products[products['categ'] == 0]\n",
    "categ_1 = products[products['categ'] == 1]\n",
    "categ_2 = products[products['categ'] == 2]"
   ]
  },
  {
   "cell_type": "code",
   "execution_count": 89,
   "id": "c1da3f1c",
   "metadata": {},
   "outputs": [
    {
     "data": {
      "image/png": "[encoded data removed]",
      "text/plain": [
       "<Figure size 720x432 with 1 Axes>"
      ]
     },
     "metadata": {},
     "output_type": "display_data"
    }
   ],
   "source": [
    "plt.figure(figsize=(10,6))\n",
    "parts_categ = [len(categ_0), len(categ_1),len(categ_2)]\n",
    "plt.pie(parts_categ, labels = ['Catégorie 0 ', 'Catégorie 1 ', 'Catégorie 2'], autopct = lambda parts_categ: str(round(parts_categ,2)) + '%' )\n",
    "plt.title('Répartition des produits par catégorie', fontsize = 14)\n",
    "plt.show()"
   ]
  },
  {
   "cell_type": "markdown",
   "id": "a7ae8252",
   "metadata": {},
   "source": [
    "> La catégorie 2 est celle qui posséde le moins de produits."
   ]
  },
  {
   "cell_type": "markdown",
   "id": "494dd02a",
   "metadata": {},
   "source": [
    "### Focus sur les prix"
   ]
  },
  {
   "cell_type": "markdown",
   "id": "4a5deecb",
   "metadata": {},
   "source": [
    "#### Prix minimum et maximum"
   ]
  },
  {
   "cell_type": "code",
   "execution_count": 90,
   "id": "d76d13ba",
   "metadata": {},
   "outputs": [
    {
     "name": "stdout",
     "output_type": "stream",
     "text": [
      "Le prix le plus bas des produits Lapage est  -1.0 cts d'€.\n",
      "Le prix le plus élevé des produits Lapage est 300.0 €.\n"
     ]
    }
   ],
   "source": [
    "print('Le prix le plus bas des produits Lapage est ',products.price.min(), 'cts d\\'€.')\n",
    "print('Le prix le plus élevé des produits Lapage est', products.price.max(),'€.')"
   ]
  },
  {
   "cell_type": "code",
   "execution_count": 91,
   "id": "1a5552bd",
   "metadata": {},
   "outputs": [
    {
     "data": {
      "text/html": [
       "<div>\n",
       "<style scoped>\n",
       "    .dataframe tbody tr th:only-of-type {\n",
       "        vertical-align: middle;\n",
       "    }\n",
       "\n",
       "    .dataframe tbody tr th {\n",
       "        vertical-align: top;\n",
       "    }\n",
       "\n",
       "    .dataframe thead th {\n",
       "        text-align: right;\n",
       "    }\n",
       "</style>\n",
       "<table border=\"1\" class=\"dataframe\">\n",
       "  <thead>\n",
       "    <tr style=\"text-align: right;\">\n",
       "      <th></th>\n",
       "      <th>id_prod</th>\n",
       "      <th>price</th>\n",
       "      <th>categ</th>\n",
       "    </tr>\n",
       "  </thead>\n",
       "  <tbody>\n",
       "    <tr>\n",
       "      <th>731</th>\n",
       "      <td>T_0</td>\n",
       "      <td>-1.0</td>\n",
       "      <td>0</td>\n",
       "    </tr>\n",
       "  </tbody>\n",
       "</table>\n",
       "</div>"
      ],
      "text/plain": [
       "    id_prod  price  categ\n",
       "731     T_0   -1.0      0"
      ]
     },
     "execution_count": 91,
     "metadata": {},
     "output_type": "execute_result"
    }
   ],
   "source": [
    "# Le prix -1 n'est pas cohérent. Il correspond à un produit test. Nous supprimons cette valeur. \n",
    "products[products['price'] == -1]"
   ]
  },
  {
   "cell_type": "code",
   "execution_count": 92,
   "id": "7b4c8992",
   "metadata": {},
   "outputs": [],
   "source": [
    "# Suppression de la valeur test\n",
    "products.drop(products.loc[products['id_prod'] == 'T_0'].index, inplace = True)"
   ]
  },
  {
   "cell_type": "markdown",
   "id": "489c95ac",
   "metadata": {},
   "source": [
    "#### Prix moyen par catégorie"
   ]
  },
  {
   "cell_type": "code",
   "execution_count": 93,
   "id": "8094f936",
   "metadata": {},
   "outputs": [
    {
     "name": "stdout",
     "output_type": "stream",
     "text": [
      "Le prix moyen des produits de la catégorie 0 est 11.73 euros.\n",
      "Le prix moyen des produits de la catégorie 1 est 25.53 euros.\n",
      "Le prix moyen des produits de la catégorie 2 est 108.35 euros.\n"
     ]
    }
   ],
   "source": [
    "prix_moyen_categ_0 = round(categ_0.price.mean(),2)\n",
    "prix_moyen_categ_1 = round(categ_1.price.mean(),2)\n",
    "prix_moyen_categ_2 = round(categ_2.price.mean(),2)\n",
    "\n",
    "print('Le prix moyen des produits de la catégorie 0 est',prix_moyen_categ_0, 'euros.' )\n",
    "print('Le prix moyen des produits de la catégorie 1 est',prix_moyen_categ_1, 'euros.' )\n",
    "print('Le prix moyen des produits de la catégorie 2 est',prix_moyen_categ_2, 'euros.' )"
   ]
  },
  {
   "cell_type": "markdown",
   "id": "d44f68f8",
   "metadata": {},
   "source": [
    "#### Prix médian par catégorie\n"
   ]
  },
  {
   "cell_type": "code",
   "execution_count": 94,
   "id": "ca255604",
   "metadata": {},
   "outputs": [
    {
     "name": "stdout",
     "output_type": "stream",
     "text": [
      "Le prix médian des produits de la catégorie 0 est  10.32 €.\n",
      "Le prix médian des produits de la catégorie 1 est  22.99 €.\n",
      "Le prix médian des produits de la catégorie 2 est  101.99 €.\n"
     ]
    }
   ],
   "source": [
    "prix_median_categ_0 = round(categ_0.price.median(),2)\n",
    "prix_median_categ_1 = round(categ_1.price.median(),2)\n",
    "prix_median_categ_2 = round(categ_2.price.median(),2)\n",
    "\n",
    "print( 'Le prix médian des produits de la catégorie 0 est ', (prix_median_categ_0),'€.')\n",
    "\n",
    "print( 'Le prix médian des produits de la catégorie 1 est ', (prix_median_categ_1),'€.')\n",
    "\n",
    "print( 'Le prix médian des produits de la catégorie 2 est ', (prix_median_categ_2),'€.')\n"
   ]
  },
  {
   "cell_type": "markdown",
   "id": "782648f3",
   "metadata": {},
   "source": [
    "#### Le mode par catégorie\n"
   ]
  },
  {
   "cell_type": "code",
   "execution_count": 95,
   "id": "be697c86",
   "metadata": {},
   "outputs": [
    {
     "name": "stdout",
     "output_type": "stream",
     "text": [
      "Le mode des produits de la catégorie 0 est  4.99 €.\n",
      "Le mode des produits de la catégorie 1 est  22.99 €.\n",
      "Le mode des produits de la catégorie 2 est  50.99 €.\n"
     ]
    }
   ],
   "source": [
    "mode_categ_0 = categ_0.price.mode()\n",
    "mode_categ_1 = categ_1.price.mode()\n",
    "mode_categ_2 = categ_2.price.mode()\n",
    "\n",
    "\n",
    "print( 'Le mode des produits de la catégorie 0 est ',(mode_categ_0[0]),'€.');\n",
    "print( 'Le mode des produits de la catégorie 1 est ',(mode_categ_1[0]),'€.');\n",
    "print( 'Le mode des produits de la catégorie 2 est ',(mode_categ_2[0]),'€.');\n"
   ]
  },
  {
   "cell_type": "code",
   "execution_count": 154,
   "id": "8f4745f1",
   "metadata": {
    "collapsed": true
   },
   "outputs": [
    {
     "data": {
      "image/png": "[encoded data removed]",
      "text/plain": [
       "<Figure size 1440x864 with 1 Axes>"
      ]
     },
     "metadata": {
      "needs_background": "light"
     },
     "output_type": "display_data"
    }
   ],
   "source": [
    "fig, ax = plt.subplots(figsize=(20,12))\n",
    "\n",
    "\n",
    "plt.scatter(categ_0.id_prod, categ_0.price,  c = 'r')\n",
    "plt.scatter( categ_1.id_prod, categ_1.price,  c = 'b')\n",
    "plt.scatter(categ_2.id_prod, categ_2.price,   c = 'g')\n",
    "\n",
    "plt.xlabel('categ')\n",
    "plt.ylabel('Price')\n",
    "plt.title('Prix par catégorie', fontsize = 14);"
   ]
  },
  {
   "cell_type": "markdown",
   "id": "97e0a713",
   "metadata": {},
   "source": [
    "### Y a-t-il des outliers dans les catégories de produits ? "
   ]
  },
  {
   "cell_type": "code",
   "execution_count": 97,
   "id": "8f4f05dd",
   "metadata": {},
   "outputs": [
    {
     "data": {
      "image/png": "[encoded data removed]",
      "text/plain": [
       "<Figure size 1080x432 with 1 Axes>"
      ]
     },
     "metadata": {
      "needs_background": "light"
     },
     "output_type": "display_data"
    }
   ],
   "source": [
    "plt.figure(figsize=(15,6))\n",
    "\n",
    "ax = sns.boxplot(data=[categ_0.price,categ_1.price,categ_2.price], orient=\"h\").set(title = 'Outliers de chaque catégorie', xlabel = 'Prix', ylabel = 'Catégorie')"
   ]
  },
  {
   "cell_type": "markdown",
   "id": "75ae055d",
   "metadata": {},
   "source": [
    "#### Outliers catégorie 0"
   ]
  },
  {
   "cell_type": "code",
   "execution_count": 98,
   "id": "b5545c7c",
   "metadata": {},
   "outputs": [
    {
     "data": {
      "image/png": "[encoded data removed]",
      "text/plain": [
       "<Figure size 1080x432 with 1 Axes>"
      ]
     },
     "metadata": {
      "needs_background": "light"
     },
     "output_type": "display_data"
    }
   ],
   "source": [
    "plt.figure(figsize=(15,6))\n",
    "categ_0.boxplot(column=\"price\", vert=False)\n",
    "\n",
    "plt.title('Outliers catégorie_0')\n",
    "plt.show()"
   ]
  },
  {
   "cell_type": "code",
   "execution_count": 99,
   "id": "ba64f19a",
   "metadata": {},
   "outputs": [
    {
     "data": {
      "text/html": [
       "<div>\n",
       "<style scoped>\n",
       "    .dataframe tbody tr th:only-of-type {\n",
       "        vertical-align: middle;\n",
       "    }\n",
       "\n",
       "    .dataframe tbody tr th {\n",
       "        vertical-align: top;\n",
       "    }\n",
       "\n",
       "    .dataframe thead th {\n",
       "        text-align: right;\n",
       "    }\n",
       "</style>\n",
       "<table border=\"1\" class=\"dataframe\">\n",
       "  <thead>\n",
       "    <tr style=\"text-align: right;\">\n",
       "      <th></th>\n",
       "      <th>id_prod</th>\n",
       "      <th>price</th>\n",
       "      <th>categ</th>\n",
       "    </tr>\n",
       "  </thead>\n",
       "  <tbody>\n",
       "    <tr>\n",
       "      <th>7</th>\n",
       "      <td>0_2157</td>\n",
       "      <td>34.99</td>\n",
       "      <td>0</td>\n",
       "    </tr>\n",
       "    <tr>\n",
       "      <th>47</th>\n",
       "      <td>0_1629</td>\n",
       "      <td>40.99</td>\n",
       "      <td>0</td>\n",
       "    </tr>\n",
       "    <tr>\n",
       "      <th>76</th>\n",
       "      <td>0_548</td>\n",
       "      <td>37.53</td>\n",
       "      <td>0</td>\n",
       "    </tr>\n",
       "    <tr>\n",
       "      <th>184</th>\n",
       "      <td>0_1016</td>\n",
       "      <td>35.06</td>\n",
       "      <td>0</td>\n",
       "    </tr>\n",
       "    <tr>\n",
       "      <th>384</th>\n",
       "      <td>0_907</td>\n",
       "      <td>34.99</td>\n",
       "      <td>0</td>\n",
       "    </tr>\n",
       "  </tbody>\n",
       "</table>\n",
       "</div>"
      ],
      "text/plain": [
       "    id_prod  price  categ\n",
       "7    0_2157  34.99      0\n",
       "47   0_1629  40.99      0\n",
       "76    0_548  37.53      0\n",
       "184  0_1016  35.06      0\n",
       "384   0_907  34.99      0"
      ]
     },
     "execution_count": 99,
     "metadata": {},
     "output_type": "execute_result"
    }
   ],
   "source": [
    "# Calcul de l'IQ de la catégorie 0, de la valeur seuil et sortie de la liste des outliers\n",
    "\n",
    "q1_categ0, q3_categ0 = np.percentile(categ_0.price,[25,75])\n",
    "iq_categ0 = q3_categ0 - q1_categ0\n",
    "up_bound_categ0 = q3_categ0 + (1.5*iq_categ0)\n",
    "outliers_categ0 = categ_0[(categ_0.price>up_bound_categ0)] \n",
    "outliers_categ0.head()"
   ]
  },
  {
   "cell_type": "code",
   "execution_count": 100,
   "id": "4166699d",
   "metadata": {},
   "outputs": [
    {
     "name": "stdout",
     "output_type": "stream",
     "text": [
      "Selon la méthode des interquartiles, nous détectons 22 outliers dans la catégorie_0.\n"
     ]
    }
   ],
   "source": [
    "print('Selon la méthode des interquartiles, nous détectons', len(outliers_categ0), 'outliers dans la catégorie_0.')"
   ]
  },
  {
   "cell_type": "markdown",
   "id": "52f0a75a",
   "metadata": {},
   "source": [
    "#### Outliers Catégorie 1 "
   ]
  },
  {
   "cell_type": "code",
   "execution_count": 101,
   "id": "f9bb5e5e",
   "metadata": {},
   "outputs": [
    {
     "data": {
      "image/png": "[encoded data removed]",
      "text/plain": [
       "<Figure size 1080x432 with 1 Axes>"
      ]
     },
     "metadata": {
      "needs_background": "light"
     },
     "output_type": "display_data"
    }
   ],
   "source": [
    "plt.figure(figsize=(15,6))\n",
    "categ_1.boxplot(column=\"price\", vert=False)\n",
    "plt.title('Outliers catégorie 1')\n",
    "plt.show()"
   ]
  },
  {
   "cell_type": "code",
   "execution_count": 102,
   "id": "5b80de45",
   "metadata": {},
   "outputs": [
    {
     "data": {
      "text/html": [
       "<div>\n",
       "<style scoped>\n",
       "    .dataframe tbody tr th:only-of-type {\n",
       "        vertical-align: middle;\n",
       "    }\n",
       "\n",
       "    .dataframe tbody tr th {\n",
       "        vertical-align: top;\n",
       "    }\n",
       "\n",
       "    .dataframe thead th {\n",
       "        text-align: right;\n",
       "    }\n",
       "</style>\n",
       "<table border=\"1\" class=\"dataframe\">\n",
       "  <thead>\n",
       "    <tr style=\"text-align: right;\">\n",
       "      <th></th>\n",
       "      <th>id_prod</th>\n",
       "      <th>price</th>\n",
       "      <th>categ</th>\n",
       "    </tr>\n",
       "  </thead>\n",
       "  <tbody>\n",
       "    <tr>\n",
       "      <th>204</th>\n",
       "      <td>1_496</td>\n",
       "      <td>70.51</td>\n",
       "      <td>1</td>\n",
       "    </tr>\n",
       "    <tr>\n",
       "      <th>743</th>\n",
       "      <td>1_315</td>\n",
       "      <td>66.99</td>\n",
       "      <td>1</td>\n",
       "    </tr>\n",
       "    <tr>\n",
       "      <th>808</th>\n",
       "      <td>1_10</td>\n",
       "      <td>78.83</td>\n",
       "      <td>1</td>\n",
       "    </tr>\n",
       "    <tr>\n",
       "      <th>824</th>\n",
       "      <td>1_13</td>\n",
       "      <td>80.99</td>\n",
       "      <td>1</td>\n",
       "    </tr>\n",
       "    <tr>\n",
       "      <th>879</th>\n",
       "      <td>1_679</td>\n",
       "      <td>79.99</td>\n",
       "      <td>1</td>\n",
       "    </tr>\n",
       "  </tbody>\n",
       "</table>\n",
       "</div>"
      ],
      "text/plain": [
       "    id_prod  price  categ\n",
       "204   1_496  70.51      1\n",
       "743   1_315  66.99      1\n",
       "808    1_10  78.83      1\n",
       "824    1_13  80.99      1\n",
       "879   1_679  79.99      1"
      ]
     },
     "execution_count": 102,
     "metadata": {},
     "output_type": "execute_result"
    }
   ],
   "source": [
    "# Calcul de l'IQ de la catégorie 1, de la valeur seuil et sortie de la liste des outliers\n",
    "q1_categ1, q3_categ1 = np.percentile(categ_1.price,[25,75])\n",
    "iq_categ1 = q3_categ1 - q1_categ1\n",
    "up_bound_categ1 = q3_categ1 + (1.5*iq_categ1)\n",
    "outliers_categ1 = categ_1[(categ_1.price>up_bound_categ1)] \n",
    "outliers_categ1.head()"
   ]
  },
  {
   "cell_type": "code",
   "execution_count": 103,
   "id": "a498b49a",
   "metadata": {},
   "outputs": [
    {
     "name": "stdout",
     "output_type": "stream",
     "text": [
      "Selon la méthode des interquartiles, nous détectons 10 outliers dans la catégorie_1.\n"
     ]
    }
   ],
   "source": [
    "print('Selon la méthode des interquartiles, nous détectons', len(outliers_categ1), 'outliers dans la catégorie_1.')"
   ]
  },
  {
   "cell_type": "markdown",
   "id": "d46a0ba1",
   "metadata": {},
   "source": [
    "#### Outliers Catégorie 2"
   ]
  },
  {
   "cell_type": "code",
   "execution_count": 104,
   "id": "8833fd5d",
   "metadata": {},
   "outputs": [
    {
     "data": {
      "image/png": "[encoded data removed]",
      "text/plain": [
       "<Figure size 1080x432 with 1 Axes>"
      ]
     },
     "metadata": {
      "needs_background": "light"
     },
     "output_type": "display_data"
    }
   ],
   "source": [
    "plt.figure(figsize=(15,6))\n",
    "categ_2.boxplot(column=\"price\", vert=False)\n",
    "plt.title('Outliers catégorie 2')\n",
    "plt.show()"
   ]
  },
  {
   "cell_type": "code",
   "execution_count": 105,
   "id": "08ab8642",
   "metadata": {},
   "outputs": [
    {
     "data": {
      "text/html": [
       "<div>\n",
       "<style scoped>\n",
       "    .dataframe tbody tr th:only-of-type {\n",
       "        vertical-align: middle;\n",
       "    }\n",
       "\n",
       "    .dataframe tbody tr th {\n",
       "        vertical-align: top;\n",
       "    }\n",
       "\n",
       "    .dataframe thead th {\n",
       "        text-align: right;\n",
       "    }\n",
       "</style>\n",
       "<table border=\"1\" class=\"dataframe\">\n",
       "  <thead>\n",
       "    <tr style=\"text-align: right;\">\n",
       "      <th></th>\n",
       "      <th>id_prod</th>\n",
       "      <th>price</th>\n",
       "      <th>categ</th>\n",
       "    </tr>\n",
       "  </thead>\n",
       "  <tbody>\n",
       "    <tr>\n",
       "      <th>394</th>\n",
       "      <td>2_158</td>\n",
       "      <td>247.22</td>\n",
       "      <td>2</td>\n",
       "    </tr>\n",
       "    <tr>\n",
       "      <th>724</th>\n",
       "      <td>2_76</td>\n",
       "      <td>254.44</td>\n",
       "      <td>2</td>\n",
       "    </tr>\n",
       "    <tr>\n",
       "      <th>947</th>\n",
       "      <td>2_2</td>\n",
       "      <td>300.00</td>\n",
       "      <td>2</td>\n",
       "    </tr>\n",
       "    <tr>\n",
       "      <th>1436</th>\n",
       "      <td>2_167</td>\n",
       "      <td>236.99</td>\n",
       "      <td>2</td>\n",
       "    </tr>\n",
       "  </tbody>\n",
       "</table>\n",
       "</div>"
      ],
      "text/plain": [
       "     id_prod   price  categ\n",
       "394    2_158  247.22      2\n",
       "724     2_76  254.44      2\n",
       "947      2_2  300.00      2\n",
       "1436   2_167  236.99      2"
      ]
     },
     "execution_count": 105,
     "metadata": {},
     "output_type": "execute_result"
    }
   ],
   "source": [
    "# Calcul de l'IQ de la catégorie 2, de la valeur seuil et sortie de la liste des outliers\n",
    "q1_categ2, q3_categ2 = np.percentile(categ_2.price,[25,75])\n",
    "iq_categ2 = q3_categ2 - q1_categ2\n",
    "up_bound_categ2 = q3_categ2 + (1.5*iq_categ2)\n",
    "outliers_categ2 = categ_2[(categ_2.price>up_bound_categ2)] \n",
    "outliers_categ2"
   ]
  },
  {
   "cell_type": "code",
   "execution_count": 106,
   "id": "522db505",
   "metadata": {},
   "outputs": [
    {
     "name": "stdout",
     "output_type": "stream",
     "text": [
      "Selon la méthode des interquartiles, nous détectons 4 outliers dans la catégorie_2.\n"
     ]
    }
   ],
   "source": [
    "print('Selon la méthode des interquartiles, nous détectons', len(outliers_categ2), 'outliers dans la catégorie_2.')"
   ]
  },
  {
   "cell_type": "markdown",
   "id": "b20ee7a2",
   "metadata": {},
   "source": [
    "## DF TRANSACTIONS"
   ]
  },
  {
   "cell_type": "code",
   "execution_count": 107,
   "id": "574ddb43",
   "metadata": {},
   "outputs": [
    {
     "data": {
      "text/html": [
       "<div>\n",
       "<style scoped>\n",
       "    .dataframe tbody tr th:only-of-type {\n",
       "        vertical-align: middle;\n",
       "    }\n",
       "\n",
       "    .dataframe tbody tr th {\n",
       "        vertical-align: top;\n",
       "    }\n",
       "\n",
       "    .dataframe thead th {\n",
       "        text-align: right;\n",
       "    }\n",
       "</style>\n",
       "<table border=\"1\" class=\"dataframe\">\n",
       "  <thead>\n",
       "    <tr style=\"text-align: right;\">\n",
       "      <th></th>\n",
       "      <th>id_prod</th>\n",
       "      <th>date</th>\n",
       "      <th>session_id</th>\n",
       "      <th>client_id</th>\n",
       "    </tr>\n",
       "  </thead>\n",
       "  <tbody>\n",
       "    <tr>\n",
       "      <th>0</th>\n",
       "      <td>0_1518</td>\n",
       "      <td>2022-05-20 13:21:29.043970</td>\n",
       "      <td>s_211425</td>\n",
       "      <td>c_103</td>\n",
       "    </tr>\n",
       "    <tr>\n",
       "      <th>1</th>\n",
       "      <td>1_251</td>\n",
       "      <td>2022-02-02 07:55:19.149409</td>\n",
       "      <td>s_158752</td>\n",
       "      <td>c_8534</td>\n",
       "    </tr>\n",
       "    <tr>\n",
       "      <th>2</th>\n",
       "      <td>0_1277</td>\n",
       "      <td>2022-06-18 15:44:33.155329</td>\n",
       "      <td>s_225667</td>\n",
       "      <td>c_6714</td>\n",
       "    </tr>\n",
       "    <tr>\n",
       "      <th>3</th>\n",
       "      <td>2_209</td>\n",
       "      <td>2021-06-24 04:19:29.835891</td>\n",
       "      <td>s_52962</td>\n",
       "      <td>c_6941</td>\n",
       "    </tr>\n",
       "    <tr>\n",
       "      <th>4</th>\n",
       "      <td>0_1509</td>\n",
       "      <td>2023-01-11 08:22:08.194479</td>\n",
       "      <td>s_325227</td>\n",
       "      <td>c_4232</td>\n",
       "    </tr>\n",
       "  </tbody>\n",
       "</table>\n",
       "</div>"
      ],
      "text/plain": [
       "  id_prod                        date session_id client_id\n",
       "0  0_1518  2022-05-20 13:21:29.043970   s_211425     c_103\n",
       "1   1_251  2022-02-02 07:55:19.149409   s_158752    c_8534\n",
       "2  0_1277  2022-06-18 15:44:33.155329   s_225667    c_6714\n",
       "3   2_209  2021-06-24 04:19:29.835891    s_52962    c_6941\n",
       "4  0_1509  2023-01-11 08:22:08.194479   s_325227    c_4232"
      ]
     },
     "execution_count": 107,
     "metadata": {},
     "output_type": "execute_result"
    }
   ],
   "source": [
    "transactions.head()"
   ]
  },
  {
   "cell_type": "code",
   "execution_count": 108,
   "id": "0d029c61",
   "metadata": {},
   "outputs": [
    {
     "name": "stdout",
     "output_type": "stream",
     "text": [
      "<class 'pandas.core.frame.DataFrame'>\n",
      "RangeIndex: 679532 entries, 0 to 679531\n",
      "Data columns (total 4 columns):\n",
      " #   Column      Non-Null Count   Dtype \n",
      "---  ------      --------------   ----- \n",
      " 0   id_prod     679532 non-null  object\n",
      " 1   date        679532 non-null  object\n",
      " 2   session_id  679532 non-null  object\n",
      " 3   client_id   679532 non-null  object\n",
      "dtypes: object(4)\n",
      "memory usage: 20.7+ MB\n"
     ]
    }
   ],
   "source": [
    "transactions.info()"
   ]
  },
  {
   "cell_type": "markdown",
   "id": "39226f26",
   "metadata": {},
   "source": [
    "### Identifier le nb de valeurs unique"
   ]
  },
  {
   "cell_type": "code",
   "execution_count": 109,
   "id": "b366a47d",
   "metadata": {},
   "outputs": [
    {
     "name": "stdout",
     "output_type": "stream",
     "text": [
      "id_prod         3267\n",
      "date          679371\n",
      "session_id    342316\n",
      "client_id       8602\n",
      "dtype: int64\n"
     ]
    }
   ],
   "source": [
    "print(transactions.apply(val_unique, axis=0))"
   ]
  },
  {
   "cell_type": "markdown",
   "id": "b9625f65",
   "metadata": {},
   "source": [
    "### Détecter des valeurs nulles"
   ]
  },
  {
   "cell_type": "code",
   "execution_count": 110,
   "id": "f0ae38b3",
   "metadata": {},
   "outputs": [
    {
     "name": "stdout",
     "output_type": "stream",
     "text": [
      "id_prod       0\n",
      "date          0\n",
      "session_id    0\n",
      "client_id     0\n",
      "dtype: int64\n"
     ]
    }
   ],
   "source": [
    "print(transactions.apply(num_missing, axis =0))"
   ]
  },
  {
   "cell_type": "markdown",
   "id": "5be6b8a9",
   "metadata": {},
   "source": [
    "### Détecter les doublons"
   ]
  },
  {
   "cell_type": "code",
   "execution_count": 111,
   "id": "c1d1fd8e",
   "metadata": {},
   "outputs": [
    {
     "data": {
      "text/plain": [
       "126"
      ]
     },
     "execution_count": 111,
     "metadata": {},
     "output_type": "execute_result"
    }
   ],
   "source": [
    "transactions.duplicated().sum()"
   ]
  },
  {
   "cell_type": "code",
   "execution_count": 112,
   "id": "fc1ee1ba",
   "metadata": {},
   "outputs": [],
   "source": [
    "# Suppresssion des doublons\n",
    "transactions.drop_duplicates(inplace = True)"
   ]
  },
  {
   "cell_type": "markdown",
   "id": "91333281",
   "metadata": {},
   "source": [
    "### Détecter les valeurs dupliquées"
   ]
  },
  {
   "cell_type": "code",
   "execution_count": 113,
   "id": "629732ec",
   "metadata": {},
   "outputs": [
    {
     "name": "stdout",
     "output_type": "stream",
     "text": [
      "id_prod       676139\n",
      "date              35\n",
      "session_id    337090\n",
      "client_id     670804\n",
      "dtype: int64\n"
     ]
    }
   ],
   "source": [
    "print(transactions.apply(duplicated, axis=0))"
   ]
  },
  {
   "cell_type": "markdown",
   "id": "0fad9c71",
   "metadata": {},
   "source": [
    "#### A quoi correspondent les valeurs dupliquées ?"
   ]
  },
  {
   "cell_type": "code",
   "execution_count": 114,
   "id": "5cfd2287",
   "metadata": {},
   "outputs": [
    {
     "data": {
      "text/html": [
       "<div>\n",
       "<style scoped>\n",
       "    .dataframe tbody tr th:only-of-type {\n",
       "        vertical-align: middle;\n",
       "    }\n",
       "\n",
       "    .dataframe tbody tr th {\n",
       "        vertical-align: top;\n",
       "    }\n",
       "\n",
       "    .dataframe thead th {\n",
       "        text-align: right;\n",
       "    }\n",
       "</style>\n",
       "<table border=\"1\" class=\"dataframe\">\n",
       "  <thead>\n",
       "    <tr style=\"text-align: right;\">\n",
       "      <th></th>\n",
       "      <th>id_prod</th>\n",
       "      <th>date</th>\n",
       "      <th>session_id</th>\n",
       "      <th>client_id</th>\n",
       "    </tr>\n",
       "  </thead>\n",
       "  <tbody>\n",
       "    <tr>\n",
       "      <th>306</th>\n",
       "      <td>0_2192</td>\n",
       "      <td>2023-01-26 22:43:25.496864</td>\n",
       "      <td>s_332881</td>\n",
       "      <td>c_3682</td>\n",
       "    </tr>\n",
       "    <tr>\n",
       "      <th>375</th>\n",
       "      <td>1_379</td>\n",
       "      <td>2022-04-18 23:06:13.048219</td>\n",
       "      <td>s_196083</td>\n",
       "      <td>c_2132</td>\n",
       "    </tr>\n",
       "    <tr>\n",
       "      <th>832</th>\n",
       "      <td>0_30</td>\n",
       "      <td>2022-09-22 22:49:05.168711</td>\n",
       "      <td>s_272055</td>\n",
       "      <td>c_5636</td>\n",
       "    </tr>\n",
       "    <tr>\n",
       "      <th>1586</th>\n",
       "      <td>0_1431</td>\n",
       "      <td>2022-05-07 13:20:48.611570</td>\n",
       "      <td>s_204977</td>\n",
       "      <td>c_5782</td>\n",
       "    </tr>\n",
       "    <tr>\n",
       "      <th>1598</th>\n",
       "      <td>0_1417</td>\n",
       "      <td>2022-09-20 09:22:29.265383</td>\n",
       "      <td>s_270779</td>\n",
       "      <td>c_2117</td>\n",
       "    </tr>\n",
       "  </tbody>\n",
       "</table>\n",
       "</div>"
      ],
      "text/plain": [
       "     id_prod                        date session_id client_id\n",
       "306   0_2192  2023-01-26 22:43:25.496864   s_332881    c_3682\n",
       "375    1_379  2022-04-18 23:06:13.048219   s_196083    c_2132\n",
       "832     0_30  2022-09-22 22:49:05.168711   s_272055    c_5636\n",
       "1586  0_1431  2022-05-07 13:20:48.611570   s_204977    c_5782\n",
       "1598  0_1417  2022-09-20 09:22:29.265383   s_270779    c_2117"
      ]
     },
     "execution_count": 114,
     "metadata": {},
     "output_type": "execute_result"
    }
   ],
   "source": [
    "# Affichons toutes les sessions dupliquées.\n",
    "transactions[transactions['session_id'].duplicated()].head()"
   ]
  },
  {
   "cell_type": "code",
   "execution_count": 115,
   "id": "10525a2c",
   "metadata": {},
   "outputs": [
    {
     "data": {
      "text/html": [
       "<div>\n",
       "<style scoped>\n",
       "    .dataframe tbody tr th:only-of-type {\n",
       "        vertical-align: middle;\n",
       "    }\n",
       "\n",
       "    .dataframe tbody tr th {\n",
       "        vertical-align: top;\n",
       "    }\n",
       "\n",
       "    .dataframe thead th {\n",
       "        text-align: right;\n",
       "    }\n",
       "</style>\n",
       "<table border=\"1\" class=\"dataframe\">\n",
       "  <thead>\n",
       "    <tr style=\"text-align: right;\">\n",
       "      <th></th>\n",
       "      <th>id_prod</th>\n",
       "      <th>date</th>\n",
       "      <th>session_id</th>\n",
       "      <th>client_id</th>\n",
       "    </tr>\n",
       "  </thead>\n",
       "  <tbody>\n",
       "    <tr>\n",
       "      <th>135</th>\n",
       "      <td>1_370</td>\n",
       "      <td>2023-01-26 22:58:11.537792</td>\n",
       "      <td>s_332881</td>\n",
       "      <td>c_3682</td>\n",
       "    </tr>\n",
       "    <tr>\n",
       "      <th>306</th>\n",
       "      <td>0_2192</td>\n",
       "      <td>2023-01-26 22:43:25.496864</td>\n",
       "      <td>s_332881</td>\n",
       "      <td>c_3682</td>\n",
       "    </tr>\n",
       "    <tr>\n",
       "      <th>207135</th>\n",
       "      <td>0_1512</td>\n",
       "      <td>2023-01-26 23:03:44.078579</td>\n",
       "      <td>s_332881</td>\n",
       "      <td>c_3682</td>\n",
       "    </tr>\n",
       "    <tr>\n",
       "      <th>279630</th>\n",
       "      <td>0_1521</td>\n",
       "      <td>2023-01-26 23:01:07.725702</td>\n",
       "      <td>s_332881</td>\n",
       "      <td>c_3682</td>\n",
       "    </tr>\n",
       "    <tr>\n",
       "      <th>643702</th>\n",
       "      <td>0_1113</td>\n",
       "      <td>2023-01-26 23:06:44.258213</td>\n",
       "      <td>s_332881</td>\n",
       "      <td>c_3682</td>\n",
       "    </tr>\n",
       "  </tbody>\n",
       "</table>\n",
       "</div>"
      ],
      "text/plain": [
       "       id_prod                        date session_id client_id\n",
       "135      1_370  2023-01-26 22:58:11.537792   s_332881    c_3682\n",
       "306     0_2192  2023-01-26 22:43:25.496864   s_332881    c_3682\n",
       "207135  0_1512  2023-01-26 23:03:44.078579   s_332881    c_3682\n",
       "279630  0_1521  2023-01-26 23:01:07.725702   s_332881    c_3682\n",
       "643702  0_1113  2023-01-26 23:06:44.258213   s_332881    c_3682"
      ]
     },
     "execution_count": 115,
     "metadata": {},
     "output_type": "execute_result"
    }
   ],
   "source": [
    "# Focus sur un numero de session dupliqué\n",
    "transactions[transactions['session_id'] == 's_332881']"
   ]
  },
  {
   "cell_type": "markdown",
   "id": "86f3ea84",
   "metadata": {},
   "source": [
    "Une session = un seul client = un ou plusieurs id_prod d'où plusieurs occurences dans les colonnes session_id et client_id. "
   ]
  },
  {
   "cell_type": "markdown",
   "id": "db13e941",
   "metadata": {},
   "source": [
    "### Changement du format date \n",
    "> De dtype 'objet' à dtype 'datetime'."
   ]
  },
  {
   "cell_type": "code",
   "execution_count": 116,
   "id": "529b9379",
   "metadata": {},
   "outputs": [
    {
     "ename": "ParserError",
     "evalue": "Unknown string format: test_2021-03-01 02:30:02.237419",
     "output_type": "error",
     "traceback": [
      "\u001b[1;31m---------------------------------------------------------------------------\u001b[0m",
      "\u001b[1;31mTypeError\u001b[0m                                 Traceback (most recent call last)",
      "\u001b[1;32m~\\anaconda3\\lib\\site-packages\\pandas\\core\\arrays\\datetimes.py\u001b[0m in \u001b[0;36mobjects_to_datetime64ns\u001b[1;34m(data, dayfirst, yearfirst, utc, errors, require_iso8601, allow_object, allow_mixed)\u001b[0m\n\u001b[0;32m   2186\u001b[0m         \u001b[1;32mtry\u001b[0m\u001b[1;33m:\u001b[0m\u001b[1;33m\u001b[0m\u001b[1;33m\u001b[0m\u001b[0m\n\u001b[1;32m-> 2187\u001b[1;33m             \u001b[0mvalues\u001b[0m\u001b[1;33m,\u001b[0m \u001b[0mtz_parsed\u001b[0m \u001b[1;33m=\u001b[0m \u001b[0mconversion\u001b[0m\u001b[1;33m.\u001b[0m\u001b[0mdatetime_to_datetime64\u001b[0m\u001b[1;33m(\u001b[0m\u001b[0mdata\u001b[0m\u001b[1;33m.\u001b[0m\u001b[0mravel\u001b[0m\u001b[1;33m(\u001b[0m\u001b[1;34m\"K\"\u001b[0m\u001b[1;33m)\u001b[0m\u001b[1;33m)\u001b[0m\u001b[1;33m\u001b[0m\u001b[1;33m\u001b[0m\u001b[0m\n\u001b[0m\u001b[0;32m   2188\u001b[0m             \u001b[1;31m# If tzaware, these values represent unix timestamps, so we\u001b[0m\u001b[1;33m\u001b[0m\u001b[1;33m\u001b[0m\u001b[0m\n",
      "\u001b[1;32m~\\anaconda3\\lib\\site-packages\\pandas\\_libs\\tslibs\\conversion.pyx\u001b[0m in \u001b[0;36mpandas._libs.tslibs.conversion.datetime_to_datetime64\u001b[1;34m()\u001b[0m\n",
      "\u001b[1;31mTypeError\u001b[0m: Unrecognized value type: <class 'str'>",
      "\nDuring handling of the above exception, another exception occurred:\n",
      "\u001b[1;31mParserError\u001b[0m                               Traceback (most recent call last)",
      "\u001b[1;32mC:\\Users\\BDSCRE~1\\AppData\\Local\\Temp/ipykernel_113088/2744280659.py\u001b[0m in \u001b[0;36m<module>\u001b[1;34m\u001b[0m\n\u001b[1;32m----> 1\u001b[1;33m \u001b[0mtransactions\u001b[0m\u001b[1;33m[\u001b[0m\u001b[1;34m'date'\u001b[0m\u001b[1;33m]\u001b[0m \u001b[1;33m=\u001b[0m \u001b[0mpd\u001b[0m\u001b[1;33m.\u001b[0m\u001b[0mto_datetime\u001b[0m\u001b[1;33m(\u001b[0m\u001b[0mtransactions\u001b[0m\u001b[1;33m[\u001b[0m\u001b[1;34m'date'\u001b[0m\u001b[1;33m]\u001b[0m\u001b[1;33m)\u001b[0m\u001b[1;33m\u001b[0m\u001b[1;33m\u001b[0m\u001b[0m\n\u001b[0m",
      "\u001b[1;32m~\\anaconda3\\lib\\site-packages\\pandas\\core\\tools\\datetimes.py\u001b[0m in \u001b[0;36mto_datetime\u001b[1;34m(arg, errors, dayfirst, yearfirst, utc, format, exact, unit, infer_datetime_format, origin, cache)\u001b[0m\n\u001b[0;32m    885\u001b[0m             \u001b[0mresult\u001b[0m \u001b[1;33m=\u001b[0m \u001b[0marg\u001b[0m\u001b[1;33m.\u001b[0m\u001b[0mmap\u001b[0m\u001b[1;33m(\u001b[0m\u001b[0mcache_array\u001b[0m\u001b[1;33m)\u001b[0m\u001b[1;33m\u001b[0m\u001b[1;33m\u001b[0m\u001b[0m\n\u001b[0;32m    886\u001b[0m         \u001b[1;32melse\u001b[0m\u001b[1;33m:\u001b[0m\u001b[1;33m\u001b[0m\u001b[1;33m\u001b[0m\u001b[0m\n\u001b[1;32m--> 887\u001b[1;33m             \u001b[0mvalues\u001b[0m \u001b[1;33m=\u001b[0m \u001b[0mconvert_listlike\u001b[0m\u001b[1;33m(\u001b[0m\u001b[0marg\u001b[0m\u001b[1;33m.\u001b[0m\u001b[0m_values\u001b[0m\u001b[1;33m,\u001b[0m \u001b[0mformat\u001b[0m\u001b[1;33m)\u001b[0m\u001b[1;33m\u001b[0m\u001b[1;33m\u001b[0m\u001b[0m\n\u001b[0m\u001b[0;32m    888\u001b[0m             \u001b[0mresult\u001b[0m \u001b[1;33m=\u001b[0m \u001b[0marg\u001b[0m\u001b[1;33m.\u001b[0m\u001b[0m_constructor\u001b[0m\u001b[1;33m(\u001b[0m\u001b[0mvalues\u001b[0m\u001b[1;33m,\u001b[0m \u001b[0mindex\u001b[0m\u001b[1;33m=\u001b[0m\u001b[0marg\u001b[0m\u001b[1;33m.\u001b[0m\u001b[0mindex\u001b[0m\u001b[1;33m,\u001b[0m \u001b[0mname\u001b[0m\u001b[1;33m=\u001b[0m\u001b[0marg\u001b[0m\u001b[1;33m.\u001b[0m\u001b[0mname\u001b[0m\u001b[1;33m)\u001b[0m\u001b[1;33m\u001b[0m\u001b[1;33m\u001b[0m\u001b[0m\n\u001b[0;32m    889\u001b[0m     \u001b[1;32melif\u001b[0m \u001b[0misinstance\u001b[0m\u001b[1;33m(\u001b[0m\u001b[0marg\u001b[0m\u001b[1;33m,\u001b[0m \u001b[1;33m(\u001b[0m\u001b[0mABCDataFrame\u001b[0m\u001b[1;33m,\u001b[0m \u001b[0mabc\u001b[0m\u001b[1;33m.\u001b[0m\u001b[0mMutableMapping\u001b[0m\u001b[1;33m)\u001b[0m\u001b[1;33m)\u001b[0m\u001b[1;33m:\u001b[0m\u001b[1;33m\u001b[0m\u001b[1;33m\u001b[0m\u001b[0m\n",
      "\u001b[1;32m~\\anaconda3\\lib\\site-packages\\pandas\\core\\tools\\datetimes.py\u001b[0m in \u001b[0;36m_convert_listlike_datetimes\u001b[1;34m(arg, format, name, tz, unit, errors, infer_datetime_format, dayfirst, yearfirst, exact)\u001b[0m\n\u001b[0;32m    399\u001b[0m     \u001b[1;32massert\u001b[0m \u001b[0mformat\u001b[0m \u001b[1;32mis\u001b[0m \u001b[1;32mNone\u001b[0m \u001b[1;32mor\u001b[0m \u001b[0minfer_datetime_format\u001b[0m\u001b[1;33m\u001b[0m\u001b[1;33m\u001b[0m\u001b[0m\n\u001b[0;32m    400\u001b[0m     \u001b[0mutc\u001b[0m \u001b[1;33m=\u001b[0m \u001b[0mtz\u001b[0m \u001b[1;33m==\u001b[0m \u001b[1;34m\"utc\"\u001b[0m\u001b[1;33m\u001b[0m\u001b[1;33m\u001b[0m\u001b[0m\n\u001b[1;32m--> 401\u001b[1;33m     result, tz_parsed = objects_to_datetime64ns(\n\u001b[0m\u001b[0;32m    402\u001b[0m         \u001b[0marg\u001b[0m\u001b[1;33m,\u001b[0m\u001b[1;33m\u001b[0m\u001b[1;33m\u001b[0m\u001b[0m\n\u001b[0;32m    403\u001b[0m         \u001b[0mdayfirst\u001b[0m\u001b[1;33m=\u001b[0m\u001b[0mdayfirst\u001b[0m\u001b[1;33m,\u001b[0m\u001b[1;33m\u001b[0m\u001b[1;33m\u001b[0m\u001b[0m\n",
      "\u001b[1;32m~\\anaconda3\\lib\\site-packages\\pandas\\core\\arrays\\datetimes.py\u001b[0m in \u001b[0;36mobjects_to_datetime64ns\u001b[1;34m(data, dayfirst, yearfirst, utc, errors, require_iso8601, allow_object, allow_mixed)\u001b[0m\n\u001b[0;32m   2191\u001b[0m             \u001b[1;32mreturn\u001b[0m \u001b[0mvalues\u001b[0m\u001b[1;33m.\u001b[0m\u001b[0mview\u001b[0m\u001b[1;33m(\u001b[0m\u001b[1;34m\"i8\"\u001b[0m\u001b[1;33m)\u001b[0m\u001b[1;33m,\u001b[0m \u001b[0mtz_parsed\u001b[0m\u001b[1;33m\u001b[0m\u001b[1;33m\u001b[0m\u001b[0m\n\u001b[0;32m   2192\u001b[0m         \u001b[1;32mexcept\u001b[0m \u001b[1;33m(\u001b[0m\u001b[0mValueError\u001b[0m\u001b[1;33m,\u001b[0m \u001b[0mTypeError\u001b[0m\u001b[1;33m)\u001b[0m\u001b[1;33m:\u001b[0m\u001b[1;33m\u001b[0m\u001b[1;33m\u001b[0m\u001b[0m\n\u001b[1;32m-> 2193\u001b[1;33m             \u001b[1;32mraise\u001b[0m \u001b[0merr\u001b[0m\u001b[1;33m\u001b[0m\u001b[1;33m\u001b[0m\u001b[0m\n\u001b[0m\u001b[0;32m   2194\u001b[0m \u001b[1;33m\u001b[0m\u001b[0m\n\u001b[0;32m   2195\u001b[0m     \u001b[1;32mif\u001b[0m \u001b[0mtz_parsed\u001b[0m \u001b[1;32mis\u001b[0m \u001b[1;32mnot\u001b[0m \u001b[1;32mNone\u001b[0m\u001b[1;33m:\u001b[0m\u001b[1;33m\u001b[0m\u001b[1;33m\u001b[0m\u001b[0m\n",
      "\u001b[1;32m~\\anaconda3\\lib\\site-packages\\pandas\\core\\arrays\\datetimes.py\u001b[0m in \u001b[0;36mobjects_to_datetime64ns\u001b[1;34m(data, dayfirst, yearfirst, utc, errors, require_iso8601, allow_object, allow_mixed)\u001b[0m\n\u001b[0;32m   2173\u001b[0m     \u001b[0morder\u001b[0m\u001b[1;33m:\u001b[0m \u001b[0mLiteral\u001b[0m\u001b[1;33m[\u001b[0m\u001b[1;34m\"F\"\u001b[0m\u001b[1;33m,\u001b[0m \u001b[1;34m\"C\"\u001b[0m\u001b[1;33m]\u001b[0m \u001b[1;33m=\u001b[0m \u001b[1;34m\"F\"\u001b[0m \u001b[1;32mif\u001b[0m \u001b[0mflags\u001b[0m\u001b[1;33m.\u001b[0m\u001b[0mf_contiguous\u001b[0m \u001b[1;32melse\u001b[0m \u001b[1;34m\"C\"\u001b[0m\u001b[1;33m\u001b[0m\u001b[1;33m\u001b[0m\u001b[0m\n\u001b[0;32m   2174\u001b[0m     \u001b[1;32mtry\u001b[0m\u001b[1;33m:\u001b[0m\u001b[1;33m\u001b[0m\u001b[1;33m\u001b[0m\u001b[0m\n\u001b[1;32m-> 2175\u001b[1;33m         result, tz_parsed = tslib.array_to_datetime(\n\u001b[0m\u001b[0;32m   2176\u001b[0m             \u001b[0mdata\u001b[0m\u001b[1;33m.\u001b[0m\u001b[0mravel\u001b[0m\u001b[1;33m(\u001b[0m\u001b[1;34m\"K\"\u001b[0m\u001b[1;33m)\u001b[0m\u001b[1;33m,\u001b[0m\u001b[1;33m\u001b[0m\u001b[1;33m\u001b[0m\u001b[0m\n\u001b[0;32m   2177\u001b[0m             \u001b[0merrors\u001b[0m\u001b[1;33m=\u001b[0m\u001b[0merrors\u001b[0m\u001b[1;33m,\u001b[0m\u001b[1;33m\u001b[0m\u001b[1;33m\u001b[0m\u001b[0m\n",
      "\u001b[1;32m~\\anaconda3\\lib\\site-packages\\pandas\\_libs\\tslib.pyx\u001b[0m in \u001b[0;36mpandas._libs.tslib.array_to_datetime\u001b[1;34m()\u001b[0m\n",
      "\u001b[1;32m~\\anaconda3\\lib\\site-packages\\pandas\\_libs\\tslib.pyx\u001b[0m in \u001b[0;36mpandas._libs.tslib.array_to_datetime\u001b[1;34m()\u001b[0m\n",
      "\u001b[1;32m~\\anaconda3\\lib\\site-packages\\pandas\\_libs\\tslib.pyx\u001b[0m in \u001b[0;36mpandas._libs.tslib._array_to_datetime_object\u001b[1;34m()\u001b[0m\n",
      "\u001b[1;32m~\\anaconda3\\lib\\site-packages\\pandas\\_libs\\tslib.pyx\u001b[0m in \u001b[0;36mpandas._libs.tslib._array_to_datetime_object\u001b[1;34m()\u001b[0m\n",
      "\u001b[1;32m~\\anaconda3\\lib\\site-packages\\pandas\\_libs\\tslibs\\parsing.pyx\u001b[0m in \u001b[0;36mpandas._libs.tslibs.parsing.parse_datetime_string\u001b[1;34m()\u001b[0m\n",
      "\u001b[1;32m~\\anaconda3\\lib\\site-packages\\dateutil\\parser\\_parser.py\u001b[0m in \u001b[0;36mparse\u001b[1;34m(timestr, parserinfo, **kwargs)\u001b[0m\n\u001b[0;32m   1366\u001b[0m         \u001b[1;32mreturn\u001b[0m \u001b[0mparser\u001b[0m\u001b[1;33m(\u001b[0m\u001b[0mparserinfo\u001b[0m\u001b[1;33m)\u001b[0m\u001b[1;33m.\u001b[0m\u001b[0mparse\u001b[0m\u001b[1;33m(\u001b[0m\u001b[0mtimestr\u001b[0m\u001b[1;33m,\u001b[0m \u001b[1;33m**\u001b[0m\u001b[0mkwargs\u001b[0m\u001b[1;33m)\u001b[0m\u001b[1;33m\u001b[0m\u001b[1;33m\u001b[0m\u001b[0m\n\u001b[0;32m   1367\u001b[0m     \u001b[1;32melse\u001b[0m\u001b[1;33m:\u001b[0m\u001b[1;33m\u001b[0m\u001b[1;33m\u001b[0m\u001b[0m\n\u001b[1;32m-> 1368\u001b[1;33m         \u001b[1;32mreturn\u001b[0m \u001b[0mDEFAULTPARSER\u001b[0m\u001b[1;33m.\u001b[0m\u001b[0mparse\u001b[0m\u001b[1;33m(\u001b[0m\u001b[0mtimestr\u001b[0m\u001b[1;33m,\u001b[0m \u001b[1;33m**\u001b[0m\u001b[0mkwargs\u001b[0m\u001b[1;33m)\u001b[0m\u001b[1;33m\u001b[0m\u001b[1;33m\u001b[0m\u001b[0m\n\u001b[0m\u001b[0;32m   1369\u001b[0m \u001b[1;33m\u001b[0m\u001b[0m\n\u001b[0;32m   1370\u001b[0m \u001b[1;33m\u001b[0m\u001b[0m\n",
      "\u001b[1;32m~\\anaconda3\\lib\\site-packages\\dateutil\\parser\\_parser.py\u001b[0m in \u001b[0;36mparse\u001b[1;34m(self, timestr, default, ignoretz, tzinfos, **kwargs)\u001b[0m\n\u001b[0;32m    641\u001b[0m \u001b[1;33m\u001b[0m\u001b[0m\n\u001b[0;32m    642\u001b[0m         \u001b[1;32mif\u001b[0m \u001b[0mres\u001b[0m \u001b[1;32mis\u001b[0m \u001b[1;32mNone\u001b[0m\u001b[1;33m:\u001b[0m\u001b[1;33m\u001b[0m\u001b[1;33m\u001b[0m\u001b[0m\n\u001b[1;32m--> 643\u001b[1;33m             \u001b[1;32mraise\u001b[0m \u001b[0mParserError\u001b[0m\u001b[1;33m(\u001b[0m\u001b[1;34m\"Unknown string format: %s\"\u001b[0m\u001b[1;33m,\u001b[0m \u001b[0mtimestr\u001b[0m\u001b[1;33m)\u001b[0m\u001b[1;33m\u001b[0m\u001b[1;33m\u001b[0m\u001b[0m\n\u001b[0m\u001b[0;32m    644\u001b[0m \u001b[1;33m\u001b[0m\u001b[0m\n\u001b[0;32m    645\u001b[0m         \u001b[1;32mif\u001b[0m \u001b[0mlen\u001b[0m\u001b[1;33m(\u001b[0m\u001b[0mres\u001b[0m\u001b[1;33m)\u001b[0m \u001b[1;33m==\u001b[0m \u001b[1;36m0\u001b[0m\u001b[1;33m:\u001b[0m\u001b[1;33m\u001b[0m\u001b[1;33m\u001b[0m\u001b[0m\n",
      "\u001b[1;31mParserError\u001b[0m: Unknown string format: test_2021-03-01 02:30:02.237419"
     ]
    }
   ],
   "source": [
    "transactions['date'] = pd.to_datetime(transactions['date']) "
   ]
  },
  {
   "cell_type": "markdown",
   "id": "34082fe9",
   "metadata": {},
   "source": [
    "Impossible de changer le format date car les types de données de la colonne 'date' sont des strings en raison de valeurs tests. Identifions les valeurs tests."
   ]
  },
  {
   "cell_type": "code",
   "execution_count": 117,
   "id": "61a704ad",
   "metadata": {},
   "outputs": [
    {
     "data": {
      "text/html": [
       "<div>\n",
       "<style scoped>\n",
       "    .dataframe tbody tr th:only-of-type {\n",
       "        vertical-align: middle;\n",
       "    }\n",
       "\n",
       "    .dataframe tbody tr th {\n",
       "        vertical-align: top;\n",
       "    }\n",
       "\n",
       "    .dataframe thead th {\n",
       "        text-align: right;\n",
       "    }\n",
       "</style>\n",
       "<table border=\"1\" class=\"dataframe\">\n",
       "  <thead>\n",
       "    <tr style=\"text-align: right;\">\n",
       "      <th></th>\n",
       "      <th>id_prod</th>\n",
       "      <th>date</th>\n",
       "      <th>session_id</th>\n",
       "      <th>client_id</th>\n",
       "    </tr>\n",
       "  </thead>\n",
       "  <tbody>\n",
       "    <tr>\n",
       "      <th>3019</th>\n",
       "      <td>T_0</td>\n",
       "      <td>test_2021-03-01 02:30:02.237419</td>\n",
       "      <td>s_0</td>\n",
       "      <td>ct_0</td>\n",
       "    </tr>\n",
       "    <tr>\n",
       "      <th>185962</th>\n",
       "      <td>T_0</td>\n",
       "      <td>test_2021-03-01 02:30:02.237419</td>\n",
       "      <td>s_0</td>\n",
       "      <td>ct_1</td>\n",
       "    </tr>\n",
       "  </tbody>\n",
       "</table>\n",
       "</div>"
      ],
      "text/plain": [
       "       id_prod                             date session_id client_id\n",
       "3019       T_0  test_2021-03-01 02:30:02.237419        s_0      ct_0\n",
       "185962     T_0  test_2021-03-01 02:30:02.237419        s_0      ct_1"
      ]
     },
     "execution_count": 117,
     "metadata": {},
     "output_type": "execute_result"
    }
   ],
   "source": [
    "transactions.loc[transactions['date'] == 'test_2021-03-01 02:30:02.237419']"
   ]
  },
  {
   "cell_type": "code",
   "execution_count": 118,
   "id": "b5502f76",
   "metadata": {},
   "outputs": [
    {
     "data": {
      "text/plain": [
       "(74, 4)"
      ]
     },
     "execution_count": 118,
     "metadata": {},
     "output_type": "execute_result"
    }
   ],
   "source": [
    "# Créons un DF avec toutes les données correspondant au test.\n",
    "date_test = transactions[transactions['date'].str.startswith('test')]\n",
    "date_test.shape"
   ]
  },
  {
   "cell_type": "code",
   "execution_count": 119,
   "id": "866ac379",
   "metadata": {},
   "outputs": [
    {
     "data": {
      "text/plain": [
       "(74, 4)"
      ]
     },
     "execution_count": 119,
     "metadata": {},
     "output_type": "execute_result"
    }
   ],
   "source": [
    "id_test = transactions[transactions['id_prod'] == 'T_0']\n",
    "id_test.shape"
   ]
  },
  {
   "cell_type": "code",
   "execution_count": 120,
   "id": "154d2bba",
   "metadata": {},
   "outputs": [
    {
     "name": "stdout",
     "output_type": "stream",
     "text": [
      "<class 'pandas.core.frame.DataFrame'>\n",
      "Int64Index: 74 entries, 3019 to 670680\n",
      "Data columns (total 4 columns):\n",
      " #   Column      Non-Null Count  Dtype \n",
      "---  ------      --------------  ----- \n",
      " 0   id_prod     74 non-null     object\n",
      " 1   date        74 non-null     object\n",
      " 2   session_id  74 non-null     object\n",
      " 3   client_id   74 non-null     object\n",
      "dtypes: object(4)\n",
      "memory usage: 2.9+ KB\n"
     ]
    }
   ],
   "source": [
    "id_test.info()"
   ]
  },
  {
   "cell_type": "code",
   "execution_count": 121,
   "id": "f7c01c03",
   "metadata": {},
   "outputs": [
    {
     "data": {
      "text/plain": [
       "id_prod        1\n",
       "date          39\n",
       "session_id     1\n",
       "client_id      2\n",
       "dtype: int64"
      ]
     },
     "execution_count": 121,
     "metadata": {},
     "output_type": "execute_result"
    }
   ],
   "source": [
    "id_test.nunique()"
   ]
  },
  {
   "cell_type": "markdown",
   "id": "b853390d",
   "metadata": {},
   "source": [
    "> Il y a 74 données tests. Créons un autre DF sans ces données afin de traiter la colonne 'date'."
   ]
  },
  {
   "cell_type": "code",
   "execution_count": 122,
   "id": "4dd1b47f",
   "metadata": {},
   "outputs": [
    {
     "data": {
      "text/html": [
       "<div>\n",
       "<style scoped>\n",
       "    .dataframe tbody tr th:only-of-type {\n",
       "        vertical-align: middle;\n",
       "    }\n",
       "\n",
       "    .dataframe tbody tr th {\n",
       "        vertical-align: top;\n",
       "    }\n",
       "\n",
       "    .dataframe thead th {\n",
       "        text-align: right;\n",
       "    }\n",
       "</style>\n",
       "<table border=\"1\" class=\"dataframe\">\n",
       "  <thead>\n",
       "    <tr style=\"text-align: right;\">\n",
       "      <th></th>\n",
       "      <th>id_prod</th>\n",
       "      <th>date</th>\n",
       "      <th>session_id</th>\n",
       "      <th>client_id</th>\n",
       "    </tr>\n",
       "  </thead>\n",
       "  <tbody>\n",
       "    <tr>\n",
       "      <th>0</th>\n",
       "      <td>0_1518</td>\n",
       "      <td>2022-05-20 13:21:29.043970</td>\n",
       "      <td>s_211425</td>\n",
       "      <td>c_103</td>\n",
       "    </tr>\n",
       "    <tr>\n",
       "      <th>1</th>\n",
       "      <td>1_251</td>\n",
       "      <td>2022-02-02 07:55:19.149409</td>\n",
       "      <td>s_158752</td>\n",
       "      <td>c_8534</td>\n",
       "    </tr>\n",
       "  </tbody>\n",
       "</table>\n",
       "</div>"
      ],
      "text/plain": [
       "  id_prod                        date session_id client_id\n",
       "0  0_1518  2022-05-20 13:21:29.043970   s_211425     c_103\n",
       "1   1_251  2022-02-02 07:55:19.149409   s_158752    c_8534"
      ]
     },
     "execution_count": 122,
     "metadata": {},
     "output_type": "execute_result"
    }
   ],
   "source": [
    "transactions_withouttest_idx = transactions[transactions['id_prod'] == 'T_0'].index\n",
    "transactions_withouttest = transactions.drop(transactions_withouttest_idx)\n",
    "transactions_withouttest.head(2)"
   ]
  },
  {
   "cell_type": "code",
   "execution_count": 123,
   "id": "54a6494c",
   "metadata": {},
   "outputs": [
    {
     "name": "stdout",
     "output_type": "stream",
     "text": [
      "<class 'pandas.core.frame.DataFrame'>\n",
      "Int64Index: 679332 entries, 0 to 679531\n",
      "Data columns (total 4 columns):\n",
      " #   Column      Non-Null Count   Dtype         \n",
      "---  ------      --------------   -----         \n",
      " 0   id_prod     679332 non-null  object        \n",
      " 1   date        679332 non-null  datetime64[ns]\n",
      " 2   session_id  679332 non-null  object        \n",
      " 3   client_id   679332 non-null  object        \n",
      "dtypes: datetime64[ns](1), object(3)\n",
      "memory usage: 25.9+ MB\n"
     ]
    }
   ],
   "source": [
    "transactions_withouttest['date'] = pd.to_datetime(transactions_withouttest['date']) \n",
    "transactions_withouttest.info()\n",
    "# Nous avons bien supprimer les valeurs tests et nous avons bien convertis la colonne date en format'datetime'."
   ]
  },
  {
   "cell_type": "code",
   "execution_count": 124,
   "id": "02892b16",
   "metadata": {},
   "outputs": [],
   "source": [
    "# Modifier la colonne date et ne garder que la date en format 'dd-mm-yy'\n",
    "transactions_withouttest['date'] = pd.to_datetime(transactions_withouttest['date']).dt.strftime('%d/%m/%Y')"
   ]
  },
  {
   "cell_type": "code",
   "execution_count": 125,
   "id": "a2f001cb",
   "metadata": {},
   "outputs": [
    {
     "data": {
      "text/plain": [
       "(679332, 4)"
      ]
     },
     "execution_count": 125,
     "metadata": {},
     "output_type": "execute_result"
    }
   ],
   "source": [
    "transactions_0 = transactions_withouttest  \n",
    "transactions_0.shape"
   ]
  },
  {
   "cell_type": "code",
   "execution_count": 126,
   "id": "08a06d08",
   "metadata": {},
   "outputs": [],
   "source": [
    "transactions_0['date']=pd.to_datetime(transactions_0['date'])"
   ]
  },
  {
   "cell_type": "code",
   "execution_count": 127,
   "id": "1e09a6c1",
   "metadata": {},
   "outputs": [
    {
     "data": {
      "text/plain": [
       "id_prod               object\n",
       "date          datetime64[ns]\n",
       "session_id            object\n",
       "client_id             object\n",
       "dtype: object"
      ]
     },
     "execution_count": 127,
     "metadata": {},
     "output_type": "execute_result"
    }
   ],
   "source": [
    "transactions_0.dtypes"
   ]
  },
  {
   "cell_type": "code",
   "execution_count": 128,
   "id": "dec82e17",
   "metadata": {},
   "outputs": [
    {
     "name": "stdout",
     "output_type": "stream",
     "text": [
      "La première date des transactions est le  2021-01-03 00:00:00 .\n",
      "La dernière date des transactions est le 2023-12-02 00:00:00 .\n"
     ]
    }
   ],
   "source": [
    "print('La première date des transactions est le ', transactions_0.date.min(), '.')\n",
    "print('La dernière date des transactions est le', transactions_0.date.max(), '.')"
   ]
  },
  {
   "cell_type": "markdown",
   "id": "c09b5968",
   "metadata": {},
   "source": [
    "#### Ajout de 3 colonnes : année, mois et année_mois"
   ]
  },
  {
   "cell_type": "code",
   "execution_count": 129,
   "id": "75dd3a05",
   "metadata": {},
   "outputs": [
    {
     "data": {
      "text/html": [
       "<div>\n",
       "<style scoped>\n",
       "    .dataframe tbody tr th:only-of-type {\n",
       "        vertical-align: middle;\n",
       "    }\n",
       "\n",
       "    .dataframe tbody tr th {\n",
       "        vertical-align: top;\n",
       "    }\n",
       "\n",
       "    .dataframe thead th {\n",
       "        text-align: right;\n",
       "    }\n",
       "</style>\n",
       "<table border=\"1\" class=\"dataframe\">\n",
       "  <thead>\n",
       "    <tr style=\"text-align: right;\">\n",
       "      <th></th>\n",
       "      <th>id_prod</th>\n",
       "      <th>session_id</th>\n",
       "      <th>client_id</th>\n",
       "      <th>date</th>\n",
       "      <th>annee</th>\n",
       "      <th>mois</th>\n",
       "    </tr>\n",
       "  </thead>\n",
       "  <tbody>\n",
       "    <tr>\n",
       "      <th>0</th>\n",
       "      <td>0_1518</td>\n",
       "      <td>s_211425</td>\n",
       "      <td>c_103</td>\n",
       "      <td>2022-05-20</td>\n",
       "      <td>2022</td>\n",
       "      <td>5</td>\n",
       "    </tr>\n",
       "    <tr>\n",
       "      <th>1</th>\n",
       "      <td>1_251</td>\n",
       "      <td>s_158752</td>\n",
       "      <td>c_8534</td>\n",
       "      <td>2022-02-02</td>\n",
       "      <td>2022</td>\n",
       "      <td>2</td>\n",
       "    </tr>\n",
       "  </tbody>\n",
       "</table>\n",
       "</div>"
      ],
      "text/plain": [
       "  id_prod session_id client_id       date  annee  mois\n",
       "0  0_1518   s_211425     c_103 2022-05-20   2022     5\n",
       "1   1_251   s_158752    c_8534 2022-02-02   2022     2"
      ]
     },
     "execution_count": 129,
     "metadata": {},
     "output_type": "execute_result"
    }
   ],
   "source": [
    "transactions_0['annee']= transactions_0['date'].dt.year\n",
    "transactions_0['mois']= transactions_0['date'].dt.month\n",
    "\n",
    "transactions_0 = transactions_0[['id_prod', 'session_id', 'client_id', 'date', 'annee', 'mois']]\n",
    "transactions_0.head(2)"
   ]
  },
  {
   "cell_type": "code",
   "execution_count": 130,
   "id": "1fc7a8fb",
   "metadata": {},
   "outputs": [
    {
     "name": "stderr",
     "output_type": "stream",
     "text": [
      "C:\\Users\\BDSCRE~1\\AppData\\Local\\Temp/ipykernel_113088/837080579.py:1: SettingWithCopyWarning: \n",
      "A value is trying to be set on a copy of a slice from a DataFrame.\n",
      "Try using .loc[row_indexer,col_indexer] = value instead\n",
      "\n",
      "See the caveats in the documentation: https://pandas.pydata.org/pandas-docs/stable/user_guide/indexing.html#returning-a-view-versus-a-copy\n",
      "  transactions_0['annee_mois'] = transactions_0['date'].dt.strftime('%Y-%m')\n"
     ]
    },
    {
     "data": {
      "text/html": [
       "<div>\n",
       "<style scoped>\n",
       "    .dataframe tbody tr th:only-of-type {\n",
       "        vertical-align: middle;\n",
       "    }\n",
       "\n",
       "    .dataframe tbody tr th {\n",
       "        vertical-align: top;\n",
       "    }\n",
       "\n",
       "    .dataframe thead th {\n",
       "        text-align: right;\n",
       "    }\n",
       "</style>\n",
       "<table border=\"1\" class=\"dataframe\">\n",
       "  <thead>\n",
       "    <tr style=\"text-align: right;\">\n",
       "      <th></th>\n",
       "      <th>id_prod</th>\n",
       "      <th>session_id</th>\n",
       "      <th>client_id</th>\n",
       "      <th>date</th>\n",
       "      <th>annee</th>\n",
       "      <th>mois</th>\n",
       "      <th>annee_mois</th>\n",
       "    </tr>\n",
       "  </thead>\n",
       "  <tbody>\n",
       "    <tr>\n",
       "      <th>0</th>\n",
       "      <td>0_1518</td>\n",
       "      <td>s_211425</td>\n",
       "      <td>c_103</td>\n",
       "      <td>2022-05-20</td>\n",
       "      <td>2022</td>\n",
       "      <td>5</td>\n",
       "      <td>2022-05</td>\n",
       "    </tr>\n",
       "    <tr>\n",
       "      <th>1</th>\n",
       "      <td>1_251</td>\n",
       "      <td>s_158752</td>\n",
       "      <td>c_8534</td>\n",
       "      <td>2022-02-02</td>\n",
       "      <td>2022</td>\n",
       "      <td>2</td>\n",
       "      <td>2022-02</td>\n",
       "    </tr>\n",
       "  </tbody>\n",
       "</table>\n",
       "</div>"
      ],
      "text/plain": [
       "  id_prod session_id client_id       date  annee  mois annee_mois\n",
       "0  0_1518   s_211425     c_103 2022-05-20   2022     5    2022-05\n",
       "1   1_251   s_158752    c_8534 2022-02-02   2022     2    2022-02"
      ]
     },
     "execution_count": 130,
     "metadata": {},
     "output_type": "execute_result"
    }
   ],
   "source": [
    "transactions_0['annee_mois'] = transactions_0['date'].dt.strftime('%Y-%m')\n",
    "transactions_0.head(2)"
   ]
  },
  {
   "cell_type": "markdown",
   "id": "960c9869",
   "metadata": {},
   "source": [
    "### Vérifier si les id_prod présents dans 'transactions' le sont dans 'products'"
   ]
  },
  {
   "cell_type": "code",
   "execution_count": 131,
   "id": "4f610c45",
   "metadata": {},
   "outputs": [
    {
     "data": {
      "text/plain": [
       "both          679111\n",
       "left_only        221\n",
       "right_only        21\n",
       "Name: _merge, dtype: int64"
      ]
     },
     "execution_count": 131,
     "metadata": {},
     "output_type": "execute_result"
    }
   ],
   "source": [
    "verif_id_prod = pd.merge(transactions_0, products, how = 'outer', on = 'id_prod', indicator = True)\n",
    "verif_id_prod._merge.value_counts()"
   ]
  },
  {
   "cell_type": "code",
   "execution_count": 132,
   "id": "587435e8",
   "metadata": {},
   "outputs": [
    {
     "data": {
      "text/html": [
       "<div>\n",
       "<style scoped>\n",
       "    .dataframe tbody tr th:only-of-type {\n",
       "        vertical-align: middle;\n",
       "    }\n",
       "\n",
       "    .dataframe tbody tr th {\n",
       "        vertical-align: top;\n",
       "    }\n",
       "\n",
       "    .dataframe thead th {\n",
       "        text-align: right;\n",
       "    }\n",
       "</style>\n",
       "<table border=\"1\" class=\"dataframe\">\n",
       "  <thead>\n",
       "    <tr style=\"text-align: right;\">\n",
       "      <th></th>\n",
       "      <th>id_prod</th>\n",
       "      <th>session_id</th>\n",
       "      <th>client_id</th>\n",
       "      <th>date</th>\n",
       "      <th>annee</th>\n",
       "      <th>mois</th>\n",
       "      <th>annee_mois</th>\n",
       "      <th>price</th>\n",
       "      <th>categ</th>\n",
       "      <th>_merge</th>\n",
       "    </tr>\n",
       "  </thead>\n",
       "  <tbody>\n",
       "    <tr>\n",
       "      <th>542560</th>\n",
       "      <td>0_2245</td>\n",
       "      <td>s_272266</td>\n",
       "      <td>c_4746</td>\n",
       "      <td>2022-09-23</td>\n",
       "      <td>2022.0</td>\n",
       "      <td>9.0</td>\n",
       "      <td>2022-09</td>\n",
       "      <td>NaN</td>\n",
       "      <td>NaN</td>\n",
       "      <td>left_only</td>\n",
       "    </tr>\n",
       "    <tr>\n",
       "      <th>542561</th>\n",
       "      <td>0_2245</td>\n",
       "      <td>s_242482</td>\n",
       "      <td>c_6713</td>\n",
       "      <td>2022-07-23</td>\n",
       "      <td>2022.0</td>\n",
       "      <td>7.0</td>\n",
       "      <td>2022-07</td>\n",
       "      <td>NaN</td>\n",
       "      <td>NaN</td>\n",
       "      <td>left_only</td>\n",
       "    </tr>\n",
       "    <tr>\n",
       "      <th>542562</th>\n",
       "      <td>0_2245</td>\n",
       "      <td>s_306338</td>\n",
       "      <td>c_5108</td>\n",
       "      <td>2022-03-12</td>\n",
       "      <td>2022.0</td>\n",
       "      <td>3.0</td>\n",
       "      <td>2022-03</td>\n",
       "      <td>NaN</td>\n",
       "      <td>NaN</td>\n",
       "      <td>left_only</td>\n",
       "    </tr>\n",
       "    <tr>\n",
       "      <th>542563</th>\n",
       "      <td>0_2245</td>\n",
       "      <td>s_76493</td>\n",
       "      <td>c_1391</td>\n",
       "      <td>2021-08-16</td>\n",
       "      <td>2021.0</td>\n",
       "      <td>8.0</td>\n",
       "      <td>2021-08</td>\n",
       "      <td>NaN</td>\n",
       "      <td>NaN</td>\n",
       "      <td>left_only</td>\n",
       "    </tr>\n",
       "    <tr>\n",
       "      <th>542564</th>\n",
       "      <td>0_2245</td>\n",
       "      <td>s_239078</td>\n",
       "      <td>c_7954</td>\n",
       "      <td>2022-07-16</td>\n",
       "      <td>2022.0</td>\n",
       "      <td>7.0</td>\n",
       "      <td>2022-07</td>\n",
       "      <td>NaN</td>\n",
       "      <td>NaN</td>\n",
       "      <td>left_only</td>\n",
       "    </tr>\n",
       "    <tr>\n",
       "      <th>...</th>\n",
       "      <td>...</td>\n",
       "      <td>...</td>\n",
       "      <td>...</td>\n",
       "      <td>...</td>\n",
       "      <td>...</td>\n",
       "      <td>...</td>\n",
       "      <td>...</td>\n",
       "      <td>...</td>\n",
       "      <td>...</td>\n",
       "      <td>...</td>\n",
       "    </tr>\n",
       "    <tr>\n",
       "      <th>542776</th>\n",
       "      <td>0_2245</td>\n",
       "      <td>s_80395</td>\n",
       "      <td>c_131</td>\n",
       "      <td>2021-08-25</td>\n",
       "      <td>2021.0</td>\n",
       "      <td>8.0</td>\n",
       "      <td>2021-08</td>\n",
       "      <td>NaN</td>\n",
       "      <td>NaN</td>\n",
       "      <td>left_only</td>\n",
       "    </tr>\n",
       "    <tr>\n",
       "      <th>542777</th>\n",
       "      <td>0_2245</td>\n",
       "      <td>s_175311</td>\n",
       "      <td>c_4167</td>\n",
       "      <td>2022-06-03</td>\n",
       "      <td>2022.0</td>\n",
       "      <td>6.0</td>\n",
       "      <td>2022-06</td>\n",
       "      <td>NaN</td>\n",
       "      <td>NaN</td>\n",
       "      <td>left_only</td>\n",
       "    </tr>\n",
       "    <tr>\n",
       "      <th>542778</th>\n",
       "      <td>0_2245</td>\n",
       "      <td>s_209381</td>\n",
       "      <td>c_4453</td>\n",
       "      <td>2022-05-16</td>\n",
       "      <td>2022.0</td>\n",
       "      <td>5.0</td>\n",
       "      <td>2022-05</td>\n",
       "      <td>NaN</td>\n",
       "      <td>NaN</td>\n",
       "      <td>left_only</td>\n",
       "    </tr>\n",
       "    <tr>\n",
       "      <th>542779</th>\n",
       "      <td>0_2245</td>\n",
       "      <td>s_163405</td>\n",
       "      <td>c_1098</td>\n",
       "      <td>2022-11-02</td>\n",
       "      <td>2022.0</td>\n",
       "      <td>11.0</td>\n",
       "      <td>2022-11</td>\n",
       "      <td>NaN</td>\n",
       "      <td>NaN</td>\n",
       "      <td>left_only</td>\n",
       "    </tr>\n",
       "    <tr>\n",
       "      <th>542780</th>\n",
       "      <td>0_2245</td>\n",
       "      <td>s_134446</td>\n",
       "      <td>c_4854</td>\n",
       "      <td>2021-12-14</td>\n",
       "      <td>2021.0</td>\n",
       "      <td>12.0</td>\n",
       "      <td>2021-12</td>\n",
       "      <td>NaN</td>\n",
       "      <td>NaN</td>\n",
       "      <td>left_only</td>\n",
       "    </tr>\n",
       "  </tbody>\n",
       "</table>\n",
       "<p>221 rows × 10 columns</p>\n",
       "</div>"
      ],
      "text/plain": [
       "       id_prod session_id client_id       date   annee  mois annee_mois  \\\n",
       "542560  0_2245   s_272266    c_4746 2022-09-23  2022.0   9.0    2022-09   \n",
       "542561  0_2245   s_242482    c_6713 2022-07-23  2022.0   7.0    2022-07   \n",
       "542562  0_2245   s_306338    c_5108 2022-03-12  2022.0   3.0    2022-03   \n",
       "542563  0_2245    s_76493    c_1391 2021-08-16  2021.0   8.0    2021-08   \n",
       "542564  0_2245   s_239078    c_7954 2022-07-16  2022.0   7.0    2022-07   \n",
       "...        ...        ...       ...        ...     ...   ...        ...   \n",
       "542776  0_2245    s_80395     c_131 2021-08-25  2021.0   8.0    2021-08   \n",
       "542777  0_2245   s_175311    c_4167 2022-06-03  2022.0   6.0    2022-06   \n",
       "542778  0_2245   s_209381    c_4453 2022-05-16  2022.0   5.0    2022-05   \n",
       "542779  0_2245   s_163405    c_1098 2022-11-02  2022.0  11.0    2022-11   \n",
       "542780  0_2245   s_134446    c_4854 2021-12-14  2021.0  12.0    2021-12   \n",
       "\n",
       "        price  categ     _merge  \n",
       "542560    NaN    NaN  left_only  \n",
       "542561    NaN    NaN  left_only  \n",
       "542562    NaN    NaN  left_only  \n",
       "542563    NaN    NaN  left_only  \n",
       "542564    NaN    NaN  left_only  \n",
       "...       ...    ...        ...  \n",
       "542776    NaN    NaN  left_only  \n",
       "542777    NaN    NaN  left_only  \n",
       "542778    NaN    NaN  left_only  \n",
       "542779    NaN    NaN  left_only  \n",
       "542780    NaN    NaN  left_only  \n",
       "\n",
       "[221 rows x 10 columns]"
      ]
     },
     "execution_count": 132,
     "metadata": {},
     "output_type": "execute_result"
    }
   ],
   "source": [
    "verif_id_prod_2 = verif_id_prod[verif_id_prod['_merge'] == 'left_only']\n",
    "verif_id_prod_2"
   ]
  },
  {
   "cell_type": "code",
   "execution_count": 133,
   "id": "f586129c",
   "metadata": {},
   "outputs": [
    {
     "data": {
      "text/plain": [
       "date         194\n",
       "client_id    100\n",
       "dtype: int64"
      ]
     },
     "execution_count": 133,
     "metadata": {},
     "output_type": "execute_result"
    }
   ],
   "source": [
    "verif_id_prod_2[['date','client_id' ]].nunique()"
   ]
  },
  {
   "cell_type": "code",
   "execution_count": 134,
   "id": "aa07c724",
   "metadata": {},
   "outputs": [
    {
     "data": {
      "text/plain": [
       "array(['0_2245'], dtype=object)"
      ]
     },
     "execution_count": 134,
     "metadata": {},
     "output_type": "execute_result"
    }
   ],
   "source": [
    "verif_id_prod_2.id_prod.unique()"
   ]
  },
  {
   "cell_type": "markdown",
   "id": "2a87f6b0",
   "metadata": {},
   "source": [
    "La référence ***'0_2245'*** est manquante dans le fichier ***products*** donc les 221 transactions ayant l'id_prod 0_2245 ne possédent pas d'informations concernant le prix et la catégorie du produit.\n",
    "\n",
    "Par déduction, la catégorie est 0.\n",
    "\n",
    "Nous pouvons imputer un prix calculé à partir de la moyenne ou de la médiane des prix de la catégorie 0.\n",
    "\n",
    "Pour choisir entre la moyenne et la médiane, nous devons analyser la distribution.\n",
    "Dans le cas où elle serait normale ou gaussienne, nous opterons pour la moyenne et dans le cas où elle serait asymétrique nous selectionnerons la médiane. "
   ]
  },
  {
   "cell_type": "markdown",
   "id": "e1be3686",
   "metadata": {},
   "source": [
    "#### Vérification catégories"
   ]
  },
  {
   "cell_type": "code",
   "execution_count": 135,
   "id": "41514191",
   "metadata": {},
   "outputs": [
    {
     "name": "stdout",
     "output_type": "stream",
     "text": [
      "Il y a 3286 produits, toutes catégories confondues.\n",
      "Il y a 2308 produits appartenant à la catégorie 0.\n",
      "Il y a 739 produits appartenant à la catégorie 1.\n",
      "Il y a 239 produits appartenant à la catégorie 2.\n"
     ]
    }
   ],
   "source": [
    "# Vérification catégorie\n",
    "print('Il y a', products.categ.value_counts().sum(), 'produits, toutes catégories confondues.')\n",
    "print('Il y a', products[products['categ'] == 0].value_counts().sum(), 'produits appartenant à la catégorie 0.')\n",
    "print('Il y a', products[products['categ'] == 1].value_counts().sum(), 'produits appartenant à la catégorie 1.')\n",
    "print('Il y a', products[products['categ'] == 2].value_counts().sum(), 'produits appartenant à la catégorie 2.')"
   ]
  },
  {
   "cell_type": "code",
   "execution_count": 136,
   "id": "bebb1d6c",
   "metadata": {},
   "outputs": [
    {
     "name": "stdout",
     "output_type": "stream",
     "text": [
      "Il y a 2308 produits commençant par le chiffre 0 ce qui correspond bien au nombre ds produits référencés dans la catégorie 0.\n",
      "Il y a 739 produits commençant par le chiffre 0 ce qui correspond bien au nombre ds produits référencés dans la catégorie 1.\n",
      "Il y a 239 produits commençant par le chiffre 0 ce qui correspond bien au nombre ds produits référencés dans la catégorie 2.\n"
     ]
    }
   ],
   "source": [
    "print('Il y a', products[(products['categ'].astype(str).str.startswith('0'))].value_counts().sum(), \n",
    "      'produits commençant par le chiffre 0 ce qui correspond bien au nombre ds produits référencés dans la catégorie 0.')\n",
    "\n",
    "print('Il y a', products[(products['categ'].astype(str).str.startswith('1'))].value_counts().sum(), \n",
    "      'produits commençant par le chiffre 0 ce qui correspond bien au nombre ds produits référencés dans la catégorie 1.')\n",
    "\n",
    "print('Il y a', products[(products['categ'].astype(str).str.startswith('2'))].value_counts().sum(), \n",
    "      'produits commençant par le chiffre 0 ce qui correspond bien au nombre ds produits référencés dans la catégorie 2.')"
   ]
  },
  {
   "cell_type": "markdown",
   "id": "4834a71c",
   "metadata": {},
   "source": [
    "#### Analyse distribution catégorie 0"
   ]
  },
  {
   "cell_type": "code",
   "execution_count": 137,
   "id": "71779ccc",
   "metadata": {},
   "outputs": [
    {
     "data": {
      "image/png": "[encoded data removed]",
      "text/plain": [
       "<Figure size 432x288 with 1 Axes>"
      ]
     },
     "metadata": {
      "needs_background": "light"
     },
     "output_type": "display_data"
    }
   ],
   "source": [
    "fig, ax = plt.subplots()\n",
    "num_bins = 100\n",
    "\n",
    "counts, bins = np.histogram(products.price ,np.linspace(min(categ_0.price),max(products.price),num_bins))\n",
    "ax.hist(products.price ,bins[:-1],facecolor='orange',alpha=0.5,color=\"b\",weights=(1/sum(counts))*np.ones_like(products.price),\n",
    "label=\"Distribution des prix\")\n",
    "plt.title('Distribution des prix')\n",
    "plt.xlabel('price')\n",
    "plt.ylabel('count')\n",
    "plt.show()"
   ]
  },
  {
   "cell_type": "markdown",
   "id": "4cc904ab",
   "metadata": {},
   "source": [
    "A travers ce graphique, nous pouvons conclure que la distribution est asymétrique, nous imputerons donc la médiane aux prix manquants. "
   ]
  },
  {
   "cell_type": "markdown",
   "id": "91b5fdde",
   "metadata": {},
   "source": [
    "### Vérifier si les client_id présents dans 'transactions_1' le sont dans 'customers'"
   ]
  },
  {
   "cell_type": "code",
   "execution_count": 138,
   "id": "c4562d7b",
   "metadata": {},
   "outputs": [
    {
     "data": {
      "text/plain": [
       "both          679332\n",
       "right_only        23\n",
       "left_only          0\n",
       "Name: _merge, dtype: int64"
      ]
     },
     "execution_count": 138,
     "metadata": {},
     "output_type": "execute_result"
    }
   ],
   "source": [
    "verif_id_client = pd.merge(transactions_0, customers, how = 'outer', on ='client_id', indicator = True)\n",
    "verif_id_client._merge.value_counts()"
   ]
  },
  {
   "cell_type": "code",
   "execution_count": 139,
   "id": "18cb266d",
   "metadata": {},
   "outputs": [
    {
     "data": {
      "text/html": [
       "<div>\n",
       "<style scoped>\n",
       "    .dataframe tbody tr th:only-of-type {\n",
       "        vertical-align: middle;\n",
       "    }\n",
       "\n",
       "    .dataframe tbody tr th {\n",
       "        vertical-align: top;\n",
       "    }\n",
       "\n",
       "    .dataframe thead th {\n",
       "        text-align: right;\n",
       "    }\n",
       "</style>\n",
       "<table border=\"1\" class=\"dataframe\">\n",
       "  <thead>\n",
       "    <tr style=\"text-align: right;\">\n",
       "      <th></th>\n",
       "      <th>id_prod</th>\n",
       "      <th>session_id</th>\n",
       "      <th>client_id</th>\n",
       "      <th>date</th>\n",
       "      <th>annee</th>\n",
       "      <th>mois</th>\n",
       "      <th>annee_mois</th>\n",
       "      <th>sex</th>\n",
       "      <th>birth</th>\n",
       "      <th>age</th>\n",
       "      <th>tranche_age</th>\n",
       "      <th>_merge</th>\n",
       "    </tr>\n",
       "  </thead>\n",
       "  <tbody>\n",
       "    <tr>\n",
       "      <th>679332</th>\n",
       "      <td>NaN</td>\n",
       "      <td>NaN</td>\n",
       "      <td>c_8253</td>\n",
       "      <td>NaT</td>\n",
       "      <td>NaN</td>\n",
       "      <td>NaN</td>\n",
       "      <td>NaN</td>\n",
       "      <td>f</td>\n",
       "      <td>2001</td>\n",
       "      <td>21</td>\n",
       "      <td>18 à 25</td>\n",
       "      <td>right_only</td>\n",
       "    </tr>\n",
       "    <tr>\n",
       "      <th>679333</th>\n",
       "      <td>NaN</td>\n",
       "      <td>NaN</td>\n",
       "      <td>c_3789</td>\n",
       "      <td>NaT</td>\n",
       "      <td>NaN</td>\n",
       "      <td>NaN</td>\n",
       "      <td>NaN</td>\n",
       "      <td>f</td>\n",
       "      <td>1997</td>\n",
       "      <td>25</td>\n",
       "      <td>18 à 25</td>\n",
       "      <td>right_only</td>\n",
       "    </tr>\n",
       "    <tr>\n",
       "      <th>679334</th>\n",
       "      <td>NaN</td>\n",
       "      <td>NaN</td>\n",
       "      <td>c_4406</td>\n",
       "      <td>NaT</td>\n",
       "      <td>NaN</td>\n",
       "      <td>NaN</td>\n",
       "      <td>NaN</td>\n",
       "      <td>f</td>\n",
       "      <td>1998</td>\n",
       "      <td>24</td>\n",
       "      <td>18 à 25</td>\n",
       "      <td>right_only</td>\n",
       "    </tr>\n",
       "    <tr>\n",
       "      <th>679335</th>\n",
       "      <td>NaN</td>\n",
       "      <td>NaN</td>\n",
       "      <td>ct_0</td>\n",
       "      <td>NaT</td>\n",
       "      <td>NaN</td>\n",
       "      <td>NaN</td>\n",
       "      <td>NaN</td>\n",
       "      <td>f</td>\n",
       "      <td>2001</td>\n",
       "      <td>21</td>\n",
       "      <td>18 à 25</td>\n",
       "      <td>right_only</td>\n",
       "    </tr>\n",
       "    <tr>\n",
       "      <th>679336</th>\n",
       "      <td>NaN</td>\n",
       "      <td>NaN</td>\n",
       "      <td>c_2706</td>\n",
       "      <td>NaT</td>\n",
       "      <td>NaN</td>\n",
       "      <td>NaN</td>\n",
       "      <td>NaN</td>\n",
       "      <td>f</td>\n",
       "      <td>1967</td>\n",
       "      <td>55</td>\n",
       "      <td>46 à 55</td>\n",
       "      <td>right_only</td>\n",
       "    </tr>\n",
       "    <tr>\n",
       "      <th>679337</th>\n",
       "      <td>NaN</td>\n",
       "      <td>NaN</td>\n",
       "      <td>c_3443</td>\n",
       "      <td>NaT</td>\n",
       "      <td>NaN</td>\n",
       "      <td>NaN</td>\n",
       "      <td>NaN</td>\n",
       "      <td>m</td>\n",
       "      <td>1959</td>\n",
       "      <td>63</td>\n",
       "      <td>56 à 65</td>\n",
       "      <td>right_only</td>\n",
       "    </tr>\n",
       "    <tr>\n",
       "      <th>679338</th>\n",
       "      <td>NaN</td>\n",
       "      <td>NaN</td>\n",
       "      <td>c_4447</td>\n",
       "      <td>NaT</td>\n",
       "      <td>NaN</td>\n",
       "      <td>NaN</td>\n",
       "      <td>NaN</td>\n",
       "      <td>m</td>\n",
       "      <td>1956</td>\n",
       "      <td>66</td>\n",
       "      <td>66 à 75</td>\n",
       "      <td>right_only</td>\n",
       "    </tr>\n",
       "    <tr>\n",
       "      <th>679339</th>\n",
       "      <td>NaN</td>\n",
       "      <td>NaN</td>\n",
       "      <td>c_3017</td>\n",
       "      <td>NaT</td>\n",
       "      <td>NaN</td>\n",
       "      <td>NaN</td>\n",
       "      <td>NaN</td>\n",
       "      <td>f</td>\n",
       "      <td>1992</td>\n",
       "      <td>30</td>\n",
       "      <td>26 à 35</td>\n",
       "      <td>right_only</td>\n",
       "    </tr>\n",
       "    <tr>\n",
       "      <th>679340</th>\n",
       "      <td>NaN</td>\n",
       "      <td>NaN</td>\n",
       "      <td>c_4086</td>\n",
       "      <td>NaT</td>\n",
       "      <td>NaN</td>\n",
       "      <td>NaN</td>\n",
       "      <td>NaN</td>\n",
       "      <td>f</td>\n",
       "      <td>1992</td>\n",
       "      <td>30</td>\n",
       "      <td>26 à 35</td>\n",
       "      <td>right_only</td>\n",
       "    </tr>\n",
       "    <tr>\n",
       "      <th>679341</th>\n",
       "      <td>NaN</td>\n",
       "      <td>NaN</td>\n",
       "      <td>c_6930</td>\n",
       "      <td>NaT</td>\n",
       "      <td>NaN</td>\n",
       "      <td>NaN</td>\n",
       "      <td>NaN</td>\n",
       "      <td>m</td>\n",
       "      <td>2004</td>\n",
       "      <td>18</td>\n",
       "      <td>18 à 25</td>\n",
       "      <td>right_only</td>\n",
       "    </tr>\n",
       "    <tr>\n",
       "      <th>679342</th>\n",
       "      <td>NaN</td>\n",
       "      <td>NaN</td>\n",
       "      <td>c_4358</td>\n",
       "      <td>NaT</td>\n",
       "      <td>NaN</td>\n",
       "      <td>NaN</td>\n",
       "      <td>NaN</td>\n",
       "      <td>m</td>\n",
       "      <td>1999</td>\n",
       "      <td>23</td>\n",
       "      <td>18 à 25</td>\n",
       "      <td>right_only</td>\n",
       "    </tr>\n",
       "    <tr>\n",
       "      <th>679343</th>\n",
       "      <td>NaN</td>\n",
       "      <td>NaN</td>\n",
       "      <td>c_8381</td>\n",
       "      <td>NaT</td>\n",
       "      <td>NaN</td>\n",
       "      <td>NaN</td>\n",
       "      <td>NaN</td>\n",
       "      <td>f</td>\n",
       "      <td>1965</td>\n",
       "      <td>57</td>\n",
       "      <td>56 à 65</td>\n",
       "      <td>right_only</td>\n",
       "    </tr>\n",
       "    <tr>\n",
       "      <th>679344</th>\n",
       "      <td>NaN</td>\n",
       "      <td>NaN</td>\n",
       "      <td>c_1223</td>\n",
       "      <td>NaT</td>\n",
       "      <td>NaN</td>\n",
       "      <td>NaN</td>\n",
       "      <td>NaN</td>\n",
       "      <td>m</td>\n",
       "      <td>1963</td>\n",
       "      <td>59</td>\n",
       "      <td>56 à 65</td>\n",
       "      <td>right_only</td>\n",
       "    </tr>\n",
       "    <tr>\n",
       "      <th>679345</th>\n",
       "      <td>NaN</td>\n",
       "      <td>NaN</td>\n",
       "      <td>c_6862</td>\n",
       "      <td>NaT</td>\n",
       "      <td>NaN</td>\n",
       "      <td>NaN</td>\n",
       "      <td>NaN</td>\n",
       "      <td>f</td>\n",
       "      <td>2002</td>\n",
       "      <td>20</td>\n",
       "      <td>18 à 25</td>\n",
       "      <td>right_only</td>\n",
       "    </tr>\n",
       "    <tr>\n",
       "      <th>679346</th>\n",
       "      <td>NaN</td>\n",
       "      <td>NaN</td>\n",
       "      <td>c_5245</td>\n",
       "      <td>NaT</td>\n",
       "      <td>NaN</td>\n",
       "      <td>NaN</td>\n",
       "      <td>NaN</td>\n",
       "      <td>f</td>\n",
       "      <td>2004</td>\n",
       "      <td>18</td>\n",
       "      <td>18 à 25</td>\n",
       "      <td>right_only</td>\n",
       "    </tr>\n",
       "    <tr>\n",
       "      <th>679347</th>\n",
       "      <td>NaN</td>\n",
       "      <td>NaN</td>\n",
       "      <td>c_5223</td>\n",
       "      <td>NaT</td>\n",
       "      <td>NaN</td>\n",
       "      <td>NaN</td>\n",
       "      <td>NaN</td>\n",
       "      <td>m</td>\n",
       "      <td>2003</td>\n",
       "      <td>19</td>\n",
       "      <td>18 à 25</td>\n",
       "      <td>right_only</td>\n",
       "    </tr>\n",
       "    <tr>\n",
       "      <th>679348</th>\n",
       "      <td>NaN</td>\n",
       "      <td>NaN</td>\n",
       "      <td>c_6735</td>\n",
       "      <td>NaT</td>\n",
       "      <td>NaN</td>\n",
       "      <td>NaN</td>\n",
       "      <td>NaN</td>\n",
       "      <td>m</td>\n",
       "      <td>2004</td>\n",
       "      <td>18</td>\n",
       "      <td>18 à 25</td>\n",
       "      <td>right_only</td>\n",
       "    </tr>\n",
       "    <tr>\n",
       "      <th>679349</th>\n",
       "      <td>NaN</td>\n",
       "      <td>NaN</td>\n",
       "      <td>c_862</td>\n",
       "      <td>NaT</td>\n",
       "      <td>NaN</td>\n",
       "      <td>NaN</td>\n",
       "      <td>NaN</td>\n",
       "      <td>f</td>\n",
       "      <td>1956</td>\n",
       "      <td>66</td>\n",
       "      <td>66 à 75</td>\n",
       "      <td>right_only</td>\n",
       "    </tr>\n",
       "    <tr>\n",
       "      <th>679350</th>\n",
       "      <td>NaN</td>\n",
       "      <td>NaN</td>\n",
       "      <td>c_7584</td>\n",
       "      <td>NaT</td>\n",
       "      <td>NaN</td>\n",
       "      <td>NaN</td>\n",
       "      <td>NaN</td>\n",
       "      <td>f</td>\n",
       "      <td>1960</td>\n",
       "      <td>62</td>\n",
       "      <td>56 à 65</td>\n",
       "      <td>right_only</td>\n",
       "    </tr>\n",
       "    <tr>\n",
       "      <th>679351</th>\n",
       "      <td>NaN</td>\n",
       "      <td>NaN</td>\n",
       "      <td>c_90</td>\n",
       "      <td>NaT</td>\n",
       "      <td>NaN</td>\n",
       "      <td>NaN</td>\n",
       "      <td>NaN</td>\n",
       "      <td>m</td>\n",
       "      <td>2001</td>\n",
       "      <td>21</td>\n",
       "      <td>18 à 25</td>\n",
       "      <td>right_only</td>\n",
       "    </tr>\n",
       "    <tr>\n",
       "      <th>679352</th>\n",
       "      <td>NaN</td>\n",
       "      <td>NaN</td>\n",
       "      <td>c_587</td>\n",
       "      <td>NaT</td>\n",
       "      <td>NaN</td>\n",
       "      <td>NaN</td>\n",
       "      <td>NaN</td>\n",
       "      <td>m</td>\n",
       "      <td>1993</td>\n",
       "      <td>29</td>\n",
       "      <td>26 à 35</td>\n",
       "      <td>right_only</td>\n",
       "    </tr>\n",
       "    <tr>\n",
       "      <th>679353</th>\n",
       "      <td>NaN</td>\n",
       "      <td>NaN</td>\n",
       "      <td>ct_1</td>\n",
       "      <td>NaT</td>\n",
       "      <td>NaN</td>\n",
       "      <td>NaN</td>\n",
       "      <td>NaN</td>\n",
       "      <td>m</td>\n",
       "      <td>2001</td>\n",
       "      <td>21</td>\n",
       "      <td>18 à 25</td>\n",
       "      <td>right_only</td>\n",
       "    </tr>\n",
       "    <tr>\n",
       "      <th>679354</th>\n",
       "      <td>NaN</td>\n",
       "      <td>NaN</td>\n",
       "      <td>c_3526</td>\n",
       "      <td>NaT</td>\n",
       "      <td>NaN</td>\n",
       "      <td>NaN</td>\n",
       "      <td>NaN</td>\n",
       "      <td>m</td>\n",
       "      <td>1956</td>\n",
       "      <td>66</td>\n",
       "      <td>66 à 75</td>\n",
       "      <td>right_only</td>\n",
       "    </tr>\n",
       "  </tbody>\n",
       "</table>\n",
       "</div>"
      ],
      "text/plain": [
       "       id_prod session_id client_id date  annee  mois annee_mois sex  birth  \\\n",
       "679332     NaN        NaN    c_8253  NaT    NaN   NaN        NaN   f   2001   \n",
       "679333     NaN        NaN    c_3789  NaT    NaN   NaN        NaN   f   1997   \n",
       "679334     NaN        NaN    c_4406  NaT    NaN   NaN        NaN   f   1998   \n",
       "679335     NaN        NaN      ct_0  NaT    NaN   NaN        NaN   f   2001   \n",
       "679336     NaN        NaN    c_2706  NaT    NaN   NaN        NaN   f   1967   \n",
       "679337     NaN        NaN    c_3443  NaT    NaN   NaN        NaN   m   1959   \n",
       "679338     NaN        NaN    c_4447  NaT    NaN   NaN        NaN   m   1956   \n",
       "679339     NaN        NaN    c_3017  NaT    NaN   NaN        NaN   f   1992   \n",
       "679340     NaN        NaN    c_4086  NaT    NaN   NaN        NaN   f   1992   \n",
       "679341     NaN        NaN    c_6930  NaT    NaN   NaN        NaN   m   2004   \n",
       "679342     NaN        NaN    c_4358  NaT    NaN   NaN        NaN   m   1999   \n",
       "679343     NaN        NaN    c_8381  NaT    NaN   NaN        NaN   f   1965   \n",
       "679344     NaN        NaN    c_1223  NaT    NaN   NaN        NaN   m   1963   \n",
       "679345     NaN        NaN    c_6862  NaT    NaN   NaN        NaN   f   2002   \n",
       "679346     NaN        NaN    c_5245  NaT    NaN   NaN        NaN   f   2004   \n",
       "679347     NaN        NaN    c_5223  NaT    NaN   NaN        NaN   m   2003   \n",
       "679348     NaN        NaN    c_6735  NaT    NaN   NaN        NaN   m   2004   \n",
       "679349     NaN        NaN     c_862  NaT    NaN   NaN        NaN   f   1956   \n",
       "679350     NaN        NaN    c_7584  NaT    NaN   NaN        NaN   f   1960   \n",
       "679351     NaN        NaN      c_90  NaT    NaN   NaN        NaN   m   2001   \n",
       "679352     NaN        NaN     c_587  NaT    NaN   NaN        NaN   m   1993   \n",
       "679353     NaN        NaN      ct_1  NaT    NaN   NaN        NaN   m   2001   \n",
       "679354     NaN        NaN    c_3526  NaT    NaN   NaN        NaN   m   1956   \n",
       "\n",
       "        age tranche_age      _merge  \n",
       "679332   21     18 à 25  right_only  \n",
       "679333   25     18 à 25  right_only  \n",
       "679334   24     18 à 25  right_only  \n",
       "679335   21     18 à 25  right_only  \n",
       "679336   55     46 à 55  right_only  \n",
       "679337   63     56 à 65  right_only  \n",
       "679338   66     66 à 75  right_only  \n",
       "679339   30     26 à 35  right_only  \n",
       "679340   30     26 à 35  right_only  \n",
       "679341   18     18 à 25  right_only  \n",
       "679342   23     18 à 25  right_only  \n",
       "679343   57     56 à 65  right_only  \n",
       "679344   59     56 à 65  right_only  \n",
       "679345   20     18 à 25  right_only  \n",
       "679346   18     18 à 25  right_only  \n",
       "679347   19     18 à 25  right_only  \n",
       "679348   18     18 à 25  right_only  \n",
       "679349   66     66 à 75  right_only  \n",
       "679350   62     56 à 65  right_only  \n",
       "679351   21     18 à 25  right_only  \n",
       "679352   29     26 à 35  right_only  \n",
       "679353   21     18 à 25  right_only  \n",
       "679354   66     66 à 75  right_only  "
      ]
     },
     "execution_count": 139,
     "metadata": {},
     "output_type": "execute_result"
    }
   ],
   "source": [
    "verif_id_client[verif_id_client['_merge'] == 'right_only']"
   ]
  },
  {
   "cell_type": "markdown",
   "id": "4962046a",
   "metadata": {},
   "source": [
    "23 clients ne sont pas présents dans le fichier transactions.\n",
    "> Cela peut correpondre à des clients qui n'ont pas effectué d'achat et que nous ne retrouvons donc pas dans le fichier transactions."
   ]
  },
  {
   "cell_type": "markdown",
   "id": "b39bd7dd",
   "metadata": {},
   "source": [
    "# JOINTURE\n"
   ]
  },
  {
   "cell_type": "markdown",
   "id": "3a874302",
   "metadata": {},
   "source": [
    "## Première jointure entre transactions_1 et products"
   ]
  },
  {
   "cell_type": "markdown",
   "id": "5bf72a3f",
   "metadata": {},
   "source": [
    "> OUTER"
   ]
  },
  {
   "cell_type": "code",
   "execution_count": 140,
   "id": "837e66de",
   "metadata": {},
   "outputs": [
    {
     "data": {
      "text/plain": [
       "both          679111\n",
       "left_only        221\n",
       "right_only        21\n",
       "Name: _merge, dtype: int64"
      ]
     },
     "execution_count": 140,
     "metadata": {},
     "output_type": "execute_result"
    }
   ],
   "source": [
    "merge_outer = pd.merge(transactions_0, products, how ='outer', on = 'id_prod', indicator = True)\n",
    "merge_outer._merge.value_counts()"
   ]
  },
  {
   "cell_type": "markdown",
   "id": "fd940f0f",
   "metadata": {},
   "source": [
    "Nous avons déja analyser les 221 données présentes dans le fichier transactions_1 et absentes du fichier products.\n",
    "La référence ***'0_2245'*** est manquante dans le fichier ***products*** donc les 221 transactions ayant ***l'id_prod 0_2245*** ne possédent pas d'informations concernant le prix et la catégorie du produit.\n",
    "\n",
    "\n",
    "Que faire : \n",
    "\n",
    "> - Demander aux collègues les informations manquantes afin de compléter le DF\n",
    "> - Compléter le DF si informations transmises\n",
    "> - Créer un autre DF sans ces données mais garder l'original pour éventuellement le compléter ultérieurement\n",
    "\n",
    "OU\n",
    "\n",
    "> - Imputer un prix calculé à partir de la moyenne ou de la médiane des prix de la catégorie 0 (transactions_0) "
   ]
  },
  {
   "cell_type": "markdown",
   "id": "6fe62296",
   "metadata": {},
   "source": [
    "Analysons maintenant les 21 données du fichier transactions_1 qui ne correpondent pas avec le fichier products."
   ]
  },
  {
   "cell_type": "code",
   "execution_count": 141,
   "id": "277440b8",
   "metadata": {},
   "outputs": [
    {
     "data": {
      "text/html": [
       "<div>\n",
       "<style scoped>\n",
       "    .dataframe tbody tr th:only-of-type {\n",
       "        vertical-align: middle;\n",
       "    }\n",
       "\n",
       "    .dataframe tbody tr th {\n",
       "        vertical-align: top;\n",
       "    }\n",
       "\n",
       "    .dataframe thead th {\n",
       "        text-align: right;\n",
       "    }\n",
       "</style>\n",
       "<table border=\"1\" class=\"dataframe\">\n",
       "  <thead>\n",
       "    <tr style=\"text-align: right;\">\n",
       "      <th></th>\n",
       "      <th>id_prod</th>\n",
       "      <th>session_id</th>\n",
       "      <th>client_id</th>\n",
       "      <th>date</th>\n",
       "      <th>annee</th>\n",
       "      <th>mois</th>\n",
       "      <th>annee_mois</th>\n",
       "      <th>price</th>\n",
       "      <th>categ</th>\n",
       "      <th>_merge</th>\n",
       "    </tr>\n",
       "  </thead>\n",
       "  <tbody>\n",
       "    <tr>\n",
       "      <th>679332</th>\n",
       "      <td>0_1016</td>\n",
       "      <td>NaN</td>\n",
       "      <td>NaN</td>\n",
       "      <td>NaT</td>\n",
       "      <td>NaN</td>\n",
       "      <td>NaN</td>\n",
       "      <td>NaN</td>\n",
       "      <td>35.06</td>\n",
       "      <td>0.0</td>\n",
       "      <td>right_only</td>\n",
       "    </tr>\n",
       "    <tr>\n",
       "      <th>679333</th>\n",
       "      <td>0_1780</td>\n",
       "      <td>NaN</td>\n",
       "      <td>NaN</td>\n",
       "      <td>NaT</td>\n",
       "      <td>NaN</td>\n",
       "      <td>NaN</td>\n",
       "      <td>NaN</td>\n",
       "      <td>1.67</td>\n",
       "      <td>0.0</td>\n",
       "      <td>right_only</td>\n",
       "    </tr>\n",
       "    <tr>\n",
       "      <th>679334</th>\n",
       "      <td>0_1062</td>\n",
       "      <td>NaN</td>\n",
       "      <td>NaN</td>\n",
       "      <td>NaT</td>\n",
       "      <td>NaN</td>\n",
       "      <td>NaN</td>\n",
       "      <td>NaN</td>\n",
       "      <td>20.08</td>\n",
       "      <td>0.0</td>\n",
       "      <td>right_only</td>\n",
       "    </tr>\n",
       "    <tr>\n",
       "      <th>679335</th>\n",
       "      <td>0_1119</td>\n",
       "      <td>NaN</td>\n",
       "      <td>NaN</td>\n",
       "      <td>NaT</td>\n",
       "      <td>NaN</td>\n",
       "      <td>NaN</td>\n",
       "      <td>NaN</td>\n",
       "      <td>2.99</td>\n",
       "      <td>0.0</td>\n",
       "      <td>right_only</td>\n",
       "    </tr>\n",
       "    <tr>\n",
       "      <th>679336</th>\n",
       "      <td>0_1014</td>\n",
       "      <td>NaN</td>\n",
       "      <td>NaN</td>\n",
       "      <td>NaT</td>\n",
       "      <td>NaN</td>\n",
       "      <td>NaN</td>\n",
       "      <td>NaN</td>\n",
       "      <td>1.15</td>\n",
       "      <td>0.0</td>\n",
       "      <td>right_only</td>\n",
       "    </tr>\n",
       "    <tr>\n",
       "      <th>679337</th>\n",
       "      <td>1_0</td>\n",
       "      <td>NaN</td>\n",
       "      <td>NaN</td>\n",
       "      <td>NaT</td>\n",
       "      <td>NaN</td>\n",
       "      <td>NaN</td>\n",
       "      <td>NaN</td>\n",
       "      <td>31.82</td>\n",
       "      <td>1.0</td>\n",
       "      <td>right_only</td>\n",
       "    </tr>\n",
       "    <tr>\n",
       "      <th>679338</th>\n",
       "      <td>0_1318</td>\n",
       "      <td>NaN</td>\n",
       "      <td>NaN</td>\n",
       "      <td>NaT</td>\n",
       "      <td>NaN</td>\n",
       "      <td>NaN</td>\n",
       "      <td>NaN</td>\n",
       "      <td>20.92</td>\n",
       "      <td>0.0</td>\n",
       "      <td>right_only</td>\n",
       "    </tr>\n",
       "    <tr>\n",
       "      <th>679339</th>\n",
       "      <td>0_1800</td>\n",
       "      <td>NaN</td>\n",
       "      <td>NaN</td>\n",
       "      <td>NaT</td>\n",
       "      <td>NaN</td>\n",
       "      <td>NaN</td>\n",
       "      <td>NaN</td>\n",
       "      <td>22.05</td>\n",
       "      <td>0.0</td>\n",
       "      <td>right_only</td>\n",
       "    </tr>\n",
       "    <tr>\n",
       "      <th>679340</th>\n",
       "      <td>0_1645</td>\n",
       "      <td>NaN</td>\n",
       "      <td>NaN</td>\n",
       "      <td>NaT</td>\n",
       "      <td>NaN</td>\n",
       "      <td>NaN</td>\n",
       "      <td>NaN</td>\n",
       "      <td>2.99</td>\n",
       "      <td>0.0</td>\n",
       "      <td>right_only</td>\n",
       "    </tr>\n",
       "    <tr>\n",
       "      <th>679341</th>\n",
       "      <td>0_322</td>\n",
       "      <td>NaN</td>\n",
       "      <td>NaN</td>\n",
       "      <td>NaT</td>\n",
       "      <td>NaN</td>\n",
       "      <td>NaN</td>\n",
       "      <td>NaN</td>\n",
       "      <td>2.99</td>\n",
       "      <td>0.0</td>\n",
       "      <td>right_only</td>\n",
       "    </tr>\n",
       "    <tr>\n",
       "      <th>679342</th>\n",
       "      <td>0_1620</td>\n",
       "      <td>NaN</td>\n",
       "      <td>NaN</td>\n",
       "      <td>NaT</td>\n",
       "      <td>NaN</td>\n",
       "      <td>NaN</td>\n",
       "      <td>NaN</td>\n",
       "      <td>0.80</td>\n",
       "      <td>0.0</td>\n",
       "      <td>right_only</td>\n",
       "    </tr>\n",
       "    <tr>\n",
       "      <th>679343</th>\n",
       "      <td>0_1025</td>\n",
       "      <td>NaN</td>\n",
       "      <td>NaN</td>\n",
       "      <td>NaT</td>\n",
       "      <td>NaN</td>\n",
       "      <td>NaN</td>\n",
       "      <td>NaN</td>\n",
       "      <td>24.99</td>\n",
       "      <td>0.0</td>\n",
       "      <td>right_only</td>\n",
       "    </tr>\n",
       "    <tr>\n",
       "      <th>679344</th>\n",
       "      <td>2_87</td>\n",
       "      <td>NaN</td>\n",
       "      <td>NaN</td>\n",
       "      <td>NaT</td>\n",
       "      <td>NaN</td>\n",
       "      <td>NaN</td>\n",
       "      <td>NaN</td>\n",
       "      <td>220.99</td>\n",
       "      <td>2.0</td>\n",
       "      <td>right_only</td>\n",
       "    </tr>\n",
       "    <tr>\n",
       "      <th>679345</th>\n",
       "      <td>1_394</td>\n",
       "      <td>NaN</td>\n",
       "      <td>NaN</td>\n",
       "      <td>NaT</td>\n",
       "      <td>NaN</td>\n",
       "      <td>NaN</td>\n",
       "      <td>NaN</td>\n",
       "      <td>39.73</td>\n",
       "      <td>1.0</td>\n",
       "      <td>right_only</td>\n",
       "    </tr>\n",
       "    <tr>\n",
       "      <th>679346</th>\n",
       "      <td>2_72</td>\n",
       "      <td>NaN</td>\n",
       "      <td>NaN</td>\n",
       "      <td>NaT</td>\n",
       "      <td>NaN</td>\n",
       "      <td>NaN</td>\n",
       "      <td>NaN</td>\n",
       "      <td>141.32</td>\n",
       "      <td>2.0</td>\n",
       "      <td>right_only</td>\n",
       "    </tr>\n",
       "    <tr>\n",
       "      <th>679347</th>\n",
       "      <td>0_310</td>\n",
       "      <td>NaN</td>\n",
       "      <td>NaN</td>\n",
       "      <td>NaT</td>\n",
       "      <td>NaN</td>\n",
       "      <td>NaN</td>\n",
       "      <td>NaN</td>\n",
       "      <td>1.94</td>\n",
       "      <td>0.0</td>\n",
       "      <td>right_only</td>\n",
       "    </tr>\n",
       "    <tr>\n",
       "      <th>679348</th>\n",
       "      <td>0_1624</td>\n",
       "      <td>NaN</td>\n",
       "      <td>NaN</td>\n",
       "      <td>NaT</td>\n",
       "      <td>NaN</td>\n",
       "      <td>NaN</td>\n",
       "      <td>NaN</td>\n",
       "      <td>24.50</td>\n",
       "      <td>0.0</td>\n",
       "      <td>right_only</td>\n",
       "    </tr>\n",
       "    <tr>\n",
       "      <th>679349</th>\n",
       "      <td>2_86</td>\n",
       "      <td>NaN</td>\n",
       "      <td>NaN</td>\n",
       "      <td>NaT</td>\n",
       "      <td>NaN</td>\n",
       "      <td>NaN</td>\n",
       "      <td>NaN</td>\n",
       "      <td>132.36</td>\n",
       "      <td>2.0</td>\n",
       "      <td>right_only</td>\n",
       "    </tr>\n",
       "    <tr>\n",
       "      <th>679350</th>\n",
       "      <td>0_299</td>\n",
       "      <td>NaN</td>\n",
       "      <td>NaN</td>\n",
       "      <td>NaT</td>\n",
       "      <td>NaN</td>\n",
       "      <td>NaN</td>\n",
       "      <td>NaN</td>\n",
       "      <td>22.99</td>\n",
       "      <td>0.0</td>\n",
       "      <td>right_only</td>\n",
       "    </tr>\n",
       "    <tr>\n",
       "      <th>679351</th>\n",
       "      <td>0_510</td>\n",
       "      <td>NaN</td>\n",
       "      <td>NaN</td>\n",
       "      <td>NaT</td>\n",
       "      <td>NaN</td>\n",
       "      <td>NaN</td>\n",
       "      <td>NaN</td>\n",
       "      <td>23.66</td>\n",
       "      <td>0.0</td>\n",
       "      <td>right_only</td>\n",
       "    </tr>\n",
       "    <tr>\n",
       "      <th>679352</th>\n",
       "      <td>0_2308</td>\n",
       "      <td>NaN</td>\n",
       "      <td>NaN</td>\n",
       "      <td>NaT</td>\n",
       "      <td>NaN</td>\n",
       "      <td>NaN</td>\n",
       "      <td>NaN</td>\n",
       "      <td>20.28</td>\n",
       "      <td>0.0</td>\n",
       "      <td>right_only</td>\n",
       "    </tr>\n",
       "  </tbody>\n",
       "</table>\n",
       "</div>"
      ],
      "text/plain": [
       "       id_prod session_id client_id date  annee  mois annee_mois   price  \\\n",
       "679332  0_1016        NaN       NaN  NaT    NaN   NaN        NaN   35.06   \n",
       "679333  0_1780        NaN       NaN  NaT    NaN   NaN        NaN    1.67   \n",
       "679334  0_1062        NaN       NaN  NaT    NaN   NaN        NaN   20.08   \n",
       "679335  0_1119        NaN       NaN  NaT    NaN   NaN        NaN    2.99   \n",
       "679336  0_1014        NaN       NaN  NaT    NaN   NaN        NaN    1.15   \n",
       "679337     1_0        NaN       NaN  NaT    NaN   NaN        NaN   31.82   \n",
       "679338  0_1318        NaN       NaN  NaT    NaN   NaN        NaN   20.92   \n",
       "679339  0_1800        NaN       NaN  NaT    NaN   NaN        NaN   22.05   \n",
       "679340  0_1645        NaN       NaN  NaT    NaN   NaN        NaN    2.99   \n",
       "679341   0_322        NaN       NaN  NaT    NaN   NaN        NaN    2.99   \n",
       "679342  0_1620        NaN       NaN  NaT    NaN   NaN        NaN    0.80   \n",
       "679343  0_1025        NaN       NaN  NaT    NaN   NaN        NaN   24.99   \n",
       "679344    2_87        NaN       NaN  NaT    NaN   NaN        NaN  220.99   \n",
       "679345   1_394        NaN       NaN  NaT    NaN   NaN        NaN   39.73   \n",
       "679346    2_72        NaN       NaN  NaT    NaN   NaN        NaN  141.32   \n",
       "679347   0_310        NaN       NaN  NaT    NaN   NaN        NaN    1.94   \n",
       "679348  0_1624        NaN       NaN  NaT    NaN   NaN        NaN   24.50   \n",
       "679349    2_86        NaN       NaN  NaT    NaN   NaN        NaN  132.36   \n",
       "679350   0_299        NaN       NaN  NaT    NaN   NaN        NaN   22.99   \n",
       "679351   0_510        NaN       NaN  NaT    NaN   NaN        NaN   23.66   \n",
       "679352  0_2308        NaN       NaN  NaT    NaN   NaN        NaN   20.28   \n",
       "\n",
       "        categ      _merge  \n",
       "679332    0.0  right_only  \n",
       "679333    0.0  right_only  \n",
       "679334    0.0  right_only  \n",
       "679335    0.0  right_only  \n",
       "679336    0.0  right_only  \n",
       "679337    1.0  right_only  \n",
       "679338    0.0  right_only  \n",
       "679339    0.0  right_only  \n",
       "679340    0.0  right_only  \n",
       "679341    0.0  right_only  \n",
       "679342    0.0  right_only  \n",
       "679343    0.0  right_only  \n",
       "679344    2.0  right_only  \n",
       "679345    1.0  right_only  \n",
       "679346    2.0  right_only  \n",
       "679347    0.0  right_only  \n",
       "679348    0.0  right_only  \n",
       "679349    2.0  right_only  \n",
       "679350    0.0  right_only  \n",
       "679351    0.0  right_only  \n",
       "679352    0.0  right_only  "
      ]
     },
     "execution_count": 141,
     "metadata": {},
     "output_type": "execute_result"
    }
   ],
   "source": [
    "merge_outer[merge_outer._merge=='right_only']"
   ]
  },
  {
   "cell_type": "markdown",
   "id": "88a1401d",
   "metadata": {},
   "source": [
    "Nous avons ***21 id_prod*** absents du fichier transactions.\n",
    "> Cela peut correspondre à des produits qui n'ont pas été vendus et que nous ne retrouvons donc pas dans le fichier transactions."
   ]
  },
  {
   "cell_type": "markdown",
   "id": "cef948f6",
   "metadata": {},
   "source": [
    "- Nous ne gardons pas les 21 produits non vendus.\n",
    "- Nous créons un DF avec les 221 données concernant la référence 0_2245 et nous imputons des données."
   ]
  },
  {
   "cell_type": "markdown",
   "id": "701cf63a",
   "metadata": {},
   "source": [
    "> LEFT"
   ]
  },
  {
   "cell_type": "code",
   "execution_count": 142,
   "id": "806fcc4b",
   "metadata": {},
   "outputs": [
    {
     "data": {
      "text/plain": [
       "both          679111\n",
       "left_only        221\n",
       "right_only         0\n",
       "Name: _merge, dtype: int64"
      ]
     },
     "execution_count": 142,
     "metadata": {},
     "output_type": "execute_result"
    }
   ],
   "source": [
    "merge_left = pd.merge(transactions_0, products, how = 'left', on = 'id_prod', indicator = True)\n",
    "merge_left._merge.value_counts()"
   ]
  },
  {
   "cell_type": "markdown",
   "id": "4fb68d8a",
   "metadata": {},
   "source": [
    "#### Imputation des données"
   ]
  },
  {
   "cell_type": "code",
   "execution_count": 143,
   "id": "22ee433f",
   "metadata": {},
   "outputs": [
    {
     "data": {
      "text/html": [
       "<div>\n",
       "<style scoped>\n",
       "    .dataframe tbody tr th:only-of-type {\n",
       "        vertical-align: middle;\n",
       "    }\n",
       "\n",
       "    .dataframe tbody tr th {\n",
       "        vertical-align: top;\n",
       "    }\n",
       "\n",
       "    .dataframe thead th {\n",
       "        text-align: right;\n",
       "    }\n",
       "</style>\n",
       "<table border=\"1\" class=\"dataframe\">\n",
       "  <thead>\n",
       "    <tr style=\"text-align: right;\">\n",
       "      <th></th>\n",
       "      <th>id_prod</th>\n",
       "      <th>session_id</th>\n",
       "      <th>client_id</th>\n",
       "      <th>date</th>\n",
       "      <th>annee</th>\n",
       "      <th>mois</th>\n",
       "      <th>annee_mois</th>\n",
       "      <th>price</th>\n",
       "      <th>categ</th>\n",
       "      <th>_merge</th>\n",
       "    </tr>\n",
       "  </thead>\n",
       "  <tbody>\n",
       "    <tr>\n",
       "      <th>2633</th>\n",
       "      <td>0_2245</td>\n",
       "      <td>s_272266</td>\n",
       "      <td>c_4746</td>\n",
       "      <td>2022-09-23</td>\n",
       "      <td>2022</td>\n",
       "      <td>9</td>\n",
       "      <td>2022-09</td>\n",
       "      <td>10.32</td>\n",
       "      <td>0.0</td>\n",
       "      <td>left_only</td>\n",
       "    </tr>\n",
       "    <tr>\n",
       "      <th>10103</th>\n",
       "      <td>0_2245</td>\n",
       "      <td>s_242482</td>\n",
       "      <td>c_6713</td>\n",
       "      <td>2022-07-23</td>\n",
       "      <td>2022</td>\n",
       "      <td>7</td>\n",
       "      <td>2022-07</td>\n",
       "      <td>10.32</td>\n",
       "      <td>0.0</td>\n",
       "      <td>left_only</td>\n",
       "    </tr>\n",
       "  </tbody>\n",
       "</table>\n",
       "</div>"
      ],
      "text/plain": [
       "      id_prod session_id client_id       date  annee  mois annee_mois  price  \\\n",
       "2633   0_2245   s_272266    c_4746 2022-09-23   2022     9    2022-09  10.32   \n",
       "10103  0_2245   s_242482    c_6713 2022-07-23   2022     7    2022-07  10.32   \n",
       "\n",
       "       categ     _merge  \n",
       "2633     0.0  left_only  \n",
       "10103    0.0  left_only  "
      ]
     },
     "execution_count": 143,
     "metadata": {},
     "output_type": "execute_result"
    }
   ],
   "source": [
    "merge_left['categ'].fillna(0, inplace = True)\n",
    "merge_left['price'].fillna(10.32, inplace = True)\n",
    "merge_left[merge_left['id_prod']== '0_2245'].head(2)"
   ]
  },
  {
   "cell_type": "code",
   "execution_count": 144,
   "id": "98f0045d",
   "metadata": {},
   "outputs": [],
   "source": [
    "transac_pdts = merge_left.drop('_merge', axis = 1)"
   ]
  },
  {
   "cell_type": "markdown",
   "id": "1f8864cb",
   "metadata": {},
   "source": [
    "## Deuxième jointure entre transac_pdts et customers\n"
   ]
  },
  {
   "cell_type": "code",
   "execution_count": 145,
   "id": "b3e35175",
   "metadata": {},
   "outputs": [
    {
     "data": {
      "text/plain": [
       "both          679332\n",
       "right_only        23\n",
       "left_only          0\n",
       "Name: _merge, dtype: int64"
      ]
     },
     "execution_count": 145,
     "metadata": {},
     "output_type": "execute_result"
    }
   ],
   "source": [
    "df_final_outer = pd.merge(transac_pdts, customers, how = 'outer', indicator = True)\n",
    "df_final_outer._merge.value_counts()"
   ]
  },
  {
   "cell_type": "code",
   "execution_count": 146,
   "id": "20f8049a",
   "metadata": {},
   "outputs": [
    {
     "data": {
      "text/html": [
       "<div>\n",
       "<style scoped>\n",
       "    .dataframe tbody tr th:only-of-type {\n",
       "        vertical-align: middle;\n",
       "    }\n",
       "\n",
       "    .dataframe tbody tr th {\n",
       "        vertical-align: top;\n",
       "    }\n",
       "\n",
       "    .dataframe thead th {\n",
       "        text-align: right;\n",
       "    }\n",
       "</style>\n",
       "<table border=\"1\" class=\"dataframe\">\n",
       "  <thead>\n",
       "    <tr style=\"text-align: right;\">\n",
       "      <th></th>\n",
       "      <th>id_prod</th>\n",
       "      <th>session_id</th>\n",
       "      <th>client_id</th>\n",
       "      <th>date</th>\n",
       "      <th>annee</th>\n",
       "      <th>mois</th>\n",
       "      <th>annee_mois</th>\n",
       "      <th>price</th>\n",
       "      <th>categ</th>\n",
       "      <th>sex</th>\n",
       "      <th>birth</th>\n",
       "      <th>age</th>\n",
       "      <th>tranche_age</th>\n",
       "      <th>_merge</th>\n",
       "    </tr>\n",
       "  </thead>\n",
       "  <tbody>\n",
       "    <tr>\n",
       "      <th>679332</th>\n",
       "      <td>NaN</td>\n",
       "      <td>NaN</td>\n",
       "      <td>c_8253</td>\n",
       "      <td>NaT</td>\n",
       "      <td>NaN</td>\n",
       "      <td>NaN</td>\n",
       "      <td>NaN</td>\n",
       "      <td>NaN</td>\n",
       "      <td>NaN</td>\n",
       "      <td>f</td>\n",
       "      <td>2001</td>\n",
       "      <td>21</td>\n",
       "      <td>18 à 25</td>\n",
       "      <td>right_only</td>\n",
       "    </tr>\n",
       "    <tr>\n",
       "      <th>679333</th>\n",
       "      <td>NaN</td>\n",
       "      <td>NaN</td>\n",
       "      <td>c_3789</td>\n",
       "      <td>NaT</td>\n",
       "      <td>NaN</td>\n",
       "      <td>NaN</td>\n",
       "      <td>NaN</td>\n",
       "      <td>NaN</td>\n",
       "      <td>NaN</td>\n",
       "      <td>f</td>\n",
       "      <td>1997</td>\n",
       "      <td>25</td>\n",
       "      <td>18 à 25</td>\n",
       "      <td>right_only</td>\n",
       "    </tr>\n",
       "    <tr>\n",
       "      <th>679334</th>\n",
       "      <td>NaN</td>\n",
       "      <td>NaN</td>\n",
       "      <td>c_4406</td>\n",
       "      <td>NaT</td>\n",
       "      <td>NaN</td>\n",
       "      <td>NaN</td>\n",
       "      <td>NaN</td>\n",
       "      <td>NaN</td>\n",
       "      <td>NaN</td>\n",
       "      <td>f</td>\n",
       "      <td>1998</td>\n",
       "      <td>24</td>\n",
       "      <td>18 à 25</td>\n",
       "      <td>right_only</td>\n",
       "    </tr>\n",
       "    <tr>\n",
       "      <th>679335</th>\n",
       "      <td>NaN</td>\n",
       "      <td>NaN</td>\n",
       "      <td>ct_0</td>\n",
       "      <td>NaT</td>\n",
       "      <td>NaN</td>\n",
       "      <td>NaN</td>\n",
       "      <td>NaN</td>\n",
       "      <td>NaN</td>\n",
       "      <td>NaN</td>\n",
       "      <td>f</td>\n",
       "      <td>2001</td>\n",
       "      <td>21</td>\n",
       "      <td>18 à 25</td>\n",
       "      <td>right_only</td>\n",
       "    </tr>\n",
       "    <tr>\n",
       "      <th>679336</th>\n",
       "      <td>NaN</td>\n",
       "      <td>NaN</td>\n",
       "      <td>c_2706</td>\n",
       "      <td>NaT</td>\n",
       "      <td>NaN</td>\n",
       "      <td>NaN</td>\n",
       "      <td>NaN</td>\n",
       "      <td>NaN</td>\n",
       "      <td>NaN</td>\n",
       "      <td>f</td>\n",
       "      <td>1967</td>\n",
       "      <td>55</td>\n",
       "      <td>46 à 55</td>\n",
       "      <td>right_only</td>\n",
       "    </tr>\n",
       "    <tr>\n",
       "      <th>679337</th>\n",
       "      <td>NaN</td>\n",
       "      <td>NaN</td>\n",
       "      <td>c_3443</td>\n",
       "      <td>NaT</td>\n",
       "      <td>NaN</td>\n",
       "      <td>NaN</td>\n",
       "      <td>NaN</td>\n",
       "      <td>NaN</td>\n",
       "      <td>NaN</td>\n",
       "      <td>m</td>\n",
       "      <td>1959</td>\n",
       "      <td>63</td>\n",
       "      <td>56 à 65</td>\n",
       "      <td>right_only</td>\n",
       "    </tr>\n",
       "    <tr>\n",
       "      <th>679338</th>\n",
       "      <td>NaN</td>\n",
       "      <td>NaN</td>\n",
       "      <td>c_4447</td>\n",
       "      <td>NaT</td>\n",
       "      <td>NaN</td>\n",
       "      <td>NaN</td>\n",
       "      <td>NaN</td>\n",
       "      <td>NaN</td>\n",
       "      <td>NaN</td>\n",
       "      <td>m</td>\n",
       "      <td>1956</td>\n",
       "      <td>66</td>\n",
       "      <td>66 à 75</td>\n",
       "      <td>right_only</td>\n",
       "    </tr>\n",
       "    <tr>\n",
       "      <th>679339</th>\n",
       "      <td>NaN</td>\n",
       "      <td>NaN</td>\n",
       "      <td>c_3017</td>\n",
       "      <td>NaT</td>\n",
       "      <td>NaN</td>\n",
       "      <td>NaN</td>\n",
       "      <td>NaN</td>\n",
       "      <td>NaN</td>\n",
       "      <td>NaN</td>\n",
       "      <td>f</td>\n",
       "      <td>1992</td>\n",
       "      <td>30</td>\n",
       "      <td>26 à 35</td>\n",
       "      <td>right_only</td>\n",
       "    </tr>\n",
       "    <tr>\n",
       "      <th>679340</th>\n",
       "      <td>NaN</td>\n",
       "      <td>NaN</td>\n",
       "      <td>c_4086</td>\n",
       "      <td>NaT</td>\n",
       "      <td>NaN</td>\n",
       "      <td>NaN</td>\n",
       "      <td>NaN</td>\n",
       "      <td>NaN</td>\n",
       "      <td>NaN</td>\n",
       "      <td>f</td>\n",
       "      <td>1992</td>\n",
       "      <td>30</td>\n",
       "      <td>26 à 35</td>\n",
       "      <td>right_only</td>\n",
       "    </tr>\n",
       "    <tr>\n",
       "      <th>679341</th>\n",
       "      <td>NaN</td>\n",
       "      <td>NaN</td>\n",
       "      <td>c_6930</td>\n",
       "      <td>NaT</td>\n",
       "      <td>NaN</td>\n",
       "      <td>NaN</td>\n",
       "      <td>NaN</td>\n",
       "      <td>NaN</td>\n",
       "      <td>NaN</td>\n",
       "      <td>m</td>\n",
       "      <td>2004</td>\n",
       "      <td>18</td>\n",
       "      <td>18 à 25</td>\n",
       "      <td>right_only</td>\n",
       "    </tr>\n",
       "    <tr>\n",
       "      <th>679342</th>\n",
       "      <td>NaN</td>\n",
       "      <td>NaN</td>\n",
       "      <td>c_4358</td>\n",
       "      <td>NaT</td>\n",
       "      <td>NaN</td>\n",
       "      <td>NaN</td>\n",
       "      <td>NaN</td>\n",
       "      <td>NaN</td>\n",
       "      <td>NaN</td>\n",
       "      <td>m</td>\n",
       "      <td>1999</td>\n",
       "      <td>23</td>\n",
       "      <td>18 à 25</td>\n",
       "      <td>right_only</td>\n",
       "    </tr>\n",
       "    <tr>\n",
       "      <th>679343</th>\n",
       "      <td>NaN</td>\n",
       "      <td>NaN</td>\n",
       "      <td>c_8381</td>\n",
       "      <td>NaT</td>\n",
       "      <td>NaN</td>\n",
       "      <td>NaN</td>\n",
       "      <td>NaN</td>\n",
       "      <td>NaN</td>\n",
       "      <td>NaN</td>\n",
       "      <td>f</td>\n",
       "      <td>1965</td>\n",
       "      <td>57</td>\n",
       "      <td>56 à 65</td>\n",
       "      <td>right_only</td>\n",
       "    </tr>\n",
       "    <tr>\n",
       "      <th>679344</th>\n",
       "      <td>NaN</td>\n",
       "      <td>NaN</td>\n",
       "      <td>c_1223</td>\n",
       "      <td>NaT</td>\n",
       "      <td>NaN</td>\n",
       "      <td>NaN</td>\n",
       "      <td>NaN</td>\n",
       "      <td>NaN</td>\n",
       "      <td>NaN</td>\n",
       "      <td>m</td>\n",
       "      <td>1963</td>\n",
       "      <td>59</td>\n",
       "      <td>56 à 65</td>\n",
       "      <td>right_only</td>\n",
       "    </tr>\n",
       "    <tr>\n",
       "      <th>679345</th>\n",
       "      <td>NaN</td>\n",
       "      <td>NaN</td>\n",
       "      <td>c_6862</td>\n",
       "      <td>NaT</td>\n",
       "      <td>NaN</td>\n",
       "      <td>NaN</td>\n",
       "      <td>NaN</td>\n",
       "      <td>NaN</td>\n",
       "      <td>NaN</td>\n",
       "      <td>f</td>\n",
       "      <td>2002</td>\n",
       "      <td>20</td>\n",
       "      <td>18 à 25</td>\n",
       "      <td>right_only</td>\n",
       "    </tr>\n",
       "    <tr>\n",
       "      <th>679346</th>\n",
       "      <td>NaN</td>\n",
       "      <td>NaN</td>\n",
       "      <td>c_5245</td>\n",
       "      <td>NaT</td>\n",
       "      <td>NaN</td>\n",
       "      <td>NaN</td>\n",
       "      <td>NaN</td>\n",
       "      <td>NaN</td>\n",
       "      <td>NaN</td>\n",
       "      <td>f</td>\n",
       "      <td>2004</td>\n",
       "      <td>18</td>\n",
       "      <td>18 à 25</td>\n",
       "      <td>right_only</td>\n",
       "    </tr>\n",
       "    <tr>\n",
       "      <th>679347</th>\n",
       "      <td>NaN</td>\n",
       "      <td>NaN</td>\n",
       "      <td>c_5223</td>\n",
       "      <td>NaT</td>\n",
       "      <td>NaN</td>\n",
       "      <td>NaN</td>\n",
       "      <td>NaN</td>\n",
       "      <td>NaN</td>\n",
       "      <td>NaN</td>\n",
       "      <td>m</td>\n",
       "      <td>2003</td>\n",
       "      <td>19</td>\n",
       "      <td>18 à 25</td>\n",
       "      <td>right_only</td>\n",
       "    </tr>\n",
       "    <tr>\n",
       "      <th>679348</th>\n",
       "      <td>NaN</td>\n",
       "      <td>NaN</td>\n",
       "      <td>c_6735</td>\n",
       "      <td>NaT</td>\n",
       "      <td>NaN</td>\n",
       "      <td>NaN</td>\n",
       "      <td>NaN</td>\n",
       "      <td>NaN</td>\n",
       "      <td>NaN</td>\n",
       "      <td>m</td>\n",
       "      <td>2004</td>\n",
       "      <td>18</td>\n",
       "      <td>18 à 25</td>\n",
       "      <td>right_only</td>\n",
       "    </tr>\n",
       "    <tr>\n",
       "      <th>679349</th>\n",
       "      <td>NaN</td>\n",
       "      <td>NaN</td>\n",
       "      <td>c_862</td>\n",
       "      <td>NaT</td>\n",
       "      <td>NaN</td>\n",
       "      <td>NaN</td>\n",
       "      <td>NaN</td>\n",
       "      <td>NaN</td>\n",
       "      <td>NaN</td>\n",
       "      <td>f</td>\n",
       "      <td>1956</td>\n",
       "      <td>66</td>\n",
       "      <td>66 à 75</td>\n",
       "      <td>right_only</td>\n",
       "    </tr>\n",
       "    <tr>\n",
       "      <th>679350</th>\n",
       "      <td>NaN</td>\n",
       "      <td>NaN</td>\n",
       "      <td>c_7584</td>\n",
       "      <td>NaT</td>\n",
       "      <td>NaN</td>\n",
       "      <td>NaN</td>\n",
       "      <td>NaN</td>\n",
       "      <td>NaN</td>\n",
       "      <td>NaN</td>\n",
       "      <td>f</td>\n",
       "      <td>1960</td>\n",
       "      <td>62</td>\n",
       "      <td>56 à 65</td>\n",
       "      <td>right_only</td>\n",
       "    </tr>\n",
       "    <tr>\n",
       "      <th>679351</th>\n",
       "      <td>NaN</td>\n",
       "      <td>NaN</td>\n",
       "      <td>c_90</td>\n",
       "      <td>NaT</td>\n",
       "      <td>NaN</td>\n",
       "      <td>NaN</td>\n",
       "      <td>NaN</td>\n",
       "      <td>NaN</td>\n",
       "      <td>NaN</td>\n",
       "      <td>m</td>\n",
       "      <td>2001</td>\n",
       "      <td>21</td>\n",
       "      <td>18 à 25</td>\n",
       "      <td>right_only</td>\n",
       "    </tr>\n",
       "    <tr>\n",
       "      <th>679352</th>\n",
       "      <td>NaN</td>\n",
       "      <td>NaN</td>\n",
       "      <td>c_587</td>\n",
       "      <td>NaT</td>\n",
       "      <td>NaN</td>\n",
       "      <td>NaN</td>\n",
       "      <td>NaN</td>\n",
       "      <td>NaN</td>\n",
       "      <td>NaN</td>\n",
       "      <td>m</td>\n",
       "      <td>1993</td>\n",
       "      <td>29</td>\n",
       "      <td>26 à 35</td>\n",
       "      <td>right_only</td>\n",
       "    </tr>\n",
       "    <tr>\n",
       "      <th>679353</th>\n",
       "      <td>NaN</td>\n",
       "      <td>NaN</td>\n",
       "      <td>ct_1</td>\n",
       "      <td>NaT</td>\n",
       "      <td>NaN</td>\n",
       "      <td>NaN</td>\n",
       "      <td>NaN</td>\n",
       "      <td>NaN</td>\n",
       "      <td>NaN</td>\n",
       "      <td>m</td>\n",
       "      <td>2001</td>\n",
       "      <td>21</td>\n",
       "      <td>18 à 25</td>\n",
       "      <td>right_only</td>\n",
       "    </tr>\n",
       "    <tr>\n",
       "      <th>679354</th>\n",
       "      <td>NaN</td>\n",
       "      <td>NaN</td>\n",
       "      <td>c_3526</td>\n",
       "      <td>NaT</td>\n",
       "      <td>NaN</td>\n",
       "      <td>NaN</td>\n",
       "      <td>NaN</td>\n",
       "      <td>NaN</td>\n",
       "      <td>NaN</td>\n",
       "      <td>m</td>\n",
       "      <td>1956</td>\n",
       "      <td>66</td>\n",
       "      <td>66 à 75</td>\n",
       "      <td>right_only</td>\n",
       "    </tr>\n",
       "  </tbody>\n",
       "</table>\n",
       "</div>"
      ],
      "text/plain": [
       "       id_prod session_id client_id date  annee  mois annee_mois  price  \\\n",
       "679332     NaN        NaN    c_8253  NaT    NaN   NaN        NaN    NaN   \n",
       "679333     NaN        NaN    c_3789  NaT    NaN   NaN        NaN    NaN   \n",
       "679334     NaN        NaN    c_4406  NaT    NaN   NaN        NaN    NaN   \n",
       "679335     NaN        NaN      ct_0  NaT    NaN   NaN        NaN    NaN   \n",
       "679336     NaN        NaN    c_2706  NaT    NaN   NaN        NaN    NaN   \n",
       "679337     NaN        NaN    c_3443  NaT    NaN   NaN        NaN    NaN   \n",
       "679338     NaN        NaN    c_4447  NaT    NaN   NaN        NaN    NaN   \n",
       "679339     NaN        NaN    c_3017  NaT    NaN   NaN        NaN    NaN   \n",
       "679340     NaN        NaN    c_4086  NaT    NaN   NaN        NaN    NaN   \n",
       "679341     NaN        NaN    c_6930  NaT    NaN   NaN        NaN    NaN   \n",
       "679342     NaN        NaN    c_4358  NaT    NaN   NaN        NaN    NaN   \n",
       "679343     NaN        NaN    c_8381  NaT    NaN   NaN        NaN    NaN   \n",
       "679344     NaN        NaN    c_1223  NaT    NaN   NaN        NaN    NaN   \n",
       "679345     NaN        NaN    c_6862  NaT    NaN   NaN        NaN    NaN   \n",
       "679346     NaN        NaN    c_5245  NaT    NaN   NaN        NaN    NaN   \n",
       "679347     NaN        NaN    c_5223  NaT    NaN   NaN        NaN    NaN   \n",
       "679348     NaN        NaN    c_6735  NaT    NaN   NaN        NaN    NaN   \n",
       "679349     NaN        NaN     c_862  NaT    NaN   NaN        NaN    NaN   \n",
       "679350     NaN        NaN    c_7584  NaT    NaN   NaN        NaN    NaN   \n",
       "679351     NaN        NaN      c_90  NaT    NaN   NaN        NaN    NaN   \n",
       "679352     NaN        NaN     c_587  NaT    NaN   NaN        NaN    NaN   \n",
       "679353     NaN        NaN      ct_1  NaT    NaN   NaN        NaN    NaN   \n",
       "679354     NaN        NaN    c_3526  NaT    NaN   NaN        NaN    NaN   \n",
       "\n",
       "        categ sex  birth  age tranche_age      _merge  \n",
       "679332    NaN   f   2001   21     18 à 25  right_only  \n",
       "679333    NaN   f   1997   25     18 à 25  right_only  \n",
       "679334    NaN   f   1998   24     18 à 25  right_only  \n",
       "679335    NaN   f   2001   21     18 à 25  right_only  \n",
       "679336    NaN   f   1967   55     46 à 55  right_only  \n",
       "679337    NaN   m   1959   63     56 à 65  right_only  \n",
       "679338    NaN   m   1956   66     66 à 75  right_only  \n",
       "679339    NaN   f   1992   30     26 à 35  right_only  \n",
       "679340    NaN   f   1992   30     26 à 35  right_only  \n",
       "679341    NaN   m   2004   18     18 à 25  right_only  \n",
       "679342    NaN   m   1999   23     18 à 25  right_only  \n",
       "679343    NaN   f   1965   57     56 à 65  right_only  \n",
       "679344    NaN   m   1963   59     56 à 65  right_only  \n",
       "679345    NaN   f   2002   20     18 à 25  right_only  \n",
       "679346    NaN   f   2004   18     18 à 25  right_only  \n",
       "679347    NaN   m   2003   19     18 à 25  right_only  \n",
       "679348    NaN   m   2004   18     18 à 25  right_only  \n",
       "679349    NaN   f   1956   66     66 à 75  right_only  \n",
       "679350    NaN   f   1960   62     56 à 65  right_only  \n",
       "679351    NaN   m   2001   21     18 à 25  right_only  \n",
       "679352    NaN   m   1993   29     26 à 35  right_only  \n",
       "679353    NaN   m   2001   21     18 à 25  right_only  \n",
       "679354    NaN   m   1956   66     66 à 75  right_only  "
      ]
     },
     "execution_count": 146,
     "metadata": {},
     "output_type": "execute_result"
    }
   ],
   "source": [
    "df_final_outer[df_final_outer._merge == 'right_only']"
   ]
  },
  {
   "cell_type": "markdown",
   "id": "8203005e",
   "metadata": {},
   "source": [
    "Nous avons ***23 données du fichier customers*** qui ne correpondent pas avec le fichier transac_pdts. Aucune des colonnes du fichiers transac_pdts ne sont renseignées.\n",
    "\n",
    "> Cela peut correpondre à des clients qui n'ont pas effectué d'achat et que nous ne retrouvons donc pas dans le fichier transactions."
   ]
  },
  {
   "cell_type": "code",
   "execution_count": 147,
   "id": "a2075d35",
   "metadata": {},
   "outputs": [
    {
     "data": {
      "text/html": [
       "<div>\n",
       "<style scoped>\n",
       "    .dataframe tbody tr th:only-of-type {\n",
       "        vertical-align: middle;\n",
       "    }\n",
       "\n",
       "    .dataframe tbody tr th {\n",
       "        vertical-align: top;\n",
       "    }\n",
       "\n",
       "    .dataframe thead th {\n",
       "        text-align: right;\n",
       "    }\n",
       "</style>\n",
       "<table border=\"1\" class=\"dataframe\">\n",
       "  <thead>\n",
       "    <tr style=\"text-align: right;\">\n",
       "      <th></th>\n",
       "      <th>client_id</th>\n",
       "      <th>sex</th>\n",
       "      <th>birth</th>\n",
       "      <th>age</th>\n",
       "      <th>tranche_age</th>\n",
       "    </tr>\n",
       "  </thead>\n",
       "  <tbody>\n",
       "    <tr>\n",
       "      <th>2735</th>\n",
       "      <td>ct_0</td>\n",
       "      <td>f</td>\n",
       "      <td>2001</td>\n",
       "      <td>21</td>\n",
       "      <td>18 à 25</td>\n",
       "    </tr>\n",
       "    <tr>\n",
       "      <th>8494</th>\n",
       "      <td>ct_1</td>\n",
       "      <td>m</td>\n",
       "      <td>2001</td>\n",
       "      <td>21</td>\n",
       "      <td>18 à 25</td>\n",
       "    </tr>\n",
       "  </tbody>\n",
       "</table>\n",
       "</div>"
      ],
      "text/plain": [
       "     client_id sex  birth  age tranche_age\n",
       "2735      ct_0   f   2001   21     18 à 25\n",
       "8494      ct_1   m   2001   21     18 à 25"
      ]
     },
     "execution_count": 147,
     "metadata": {},
     "output_type": "execute_result"
    }
   ],
   "source": [
    "# Dans les 23 données du fichier customers, on détecte deux données inusuelles.\n",
    "customers[customers['client_id'].str.startswith('ct')]\n",
    "\n",
    "# Ces deux données correpondent aux clients test.\n",
    "# Nous réalisons une jointure à gauche qui omettra  les 23 données du fichiers customers qui ne correpsondent pas."
   ]
  },
  {
   "cell_type": "code",
   "execution_count": 148,
   "id": "134a82b4",
   "metadata": {},
   "outputs": [
    {
     "data": {
      "text/plain": [
       "both          679332\n",
       "left_only          0\n",
       "right_only         0\n",
       "Name: _merge, dtype: int64"
      ]
     },
     "execution_count": 148,
     "metadata": {},
     "output_type": "execute_result"
    }
   ],
   "source": [
    "df_final_left = pd.merge(transac_pdts, customers, how = 'left', indicator = True)\n",
    "df_final_left._merge.value_counts()"
   ]
  },
  {
   "cell_type": "code",
   "execution_count": 149,
   "id": "d8414a15",
   "metadata": {},
   "outputs": [
    {
     "name": "stdout",
     "output_type": "stream",
     "text": [
      "<class 'pandas.core.frame.DataFrame'>\n",
      "Int64Index: 679332 entries, 0 to 679331\n",
      "Data columns (total 13 columns):\n",
      " #   Column       Non-Null Count   Dtype         \n",
      "---  ------       --------------   -----         \n",
      " 0   id_prod      679332 non-null  object        \n",
      " 1   session_id   679332 non-null  object        \n",
      " 2   client_id    679332 non-null  object        \n",
      " 3   date         679332 non-null  datetime64[ns]\n",
      " 4   annee        679332 non-null  int64         \n",
      " 5   mois         679332 non-null  int64         \n",
      " 6   annee_mois   679332 non-null  object        \n",
      " 7   price        679332 non-null  float64       \n",
      " 8   categ        679332 non-null  float64       \n",
      " 9   sex          679332 non-null  object        \n",
      " 10  birth        679332 non-null  int64         \n",
      " 11  age          679332 non-null  int64         \n",
      " 12  tranche_age  679332 non-null  category      \n",
      "dtypes: category(1), datetime64[ns](1), float64(2), int64(4), object(5)\n",
      "memory usage: 68.0+ MB\n"
     ]
    }
   ],
   "source": [
    "df = df_final_left.drop('_merge', axis = 1)\n",
    "df.info()"
   ]
  },
  {
   "cell_type": "code",
   "execution_count": 150,
   "id": "3caabc2c",
   "metadata": {},
   "outputs": [
    {
     "data": {
      "text/html": [
       "<div>\n",
       "<style scoped>\n",
       "    .dataframe tbody tr th:only-of-type {\n",
       "        vertical-align: middle;\n",
       "    }\n",
       "\n",
       "    .dataframe tbody tr th {\n",
       "        vertical-align: top;\n",
       "    }\n",
       "\n",
       "    .dataframe thead th {\n",
       "        text-align: right;\n",
       "    }\n",
       "</style>\n",
       "<table border=\"1\" class=\"dataframe\">\n",
       "  <thead>\n",
       "    <tr style=\"text-align: right;\">\n",
       "      <th></th>\n",
       "      <th>id_prod</th>\n",
       "      <th>session_id</th>\n",
       "      <th>client_id</th>\n",
       "      <th>date</th>\n",
       "      <th>annee</th>\n",
       "      <th>mois</th>\n",
       "      <th>annee_mois</th>\n",
       "      <th>price</th>\n",
       "      <th>categ</th>\n",
       "      <th>sex</th>\n",
       "      <th>birth</th>\n",
       "      <th>age</th>\n",
       "      <th>tranche_age</th>\n",
       "    </tr>\n",
       "  </thead>\n",
       "  <tbody>\n",
       "    <tr>\n",
       "      <th>0</th>\n",
       "      <td>0_1518</td>\n",
       "      <td>s_211425</td>\n",
       "      <td>c_103</td>\n",
       "      <td>2022-05-20</td>\n",
       "      <td>2022</td>\n",
       "      <td>5</td>\n",
       "      <td>2022-05</td>\n",
       "      <td>4.18</td>\n",
       "      <td>0.0</td>\n",
       "      <td>f</td>\n",
       "      <td>1986</td>\n",
       "      <td>36</td>\n",
       "      <td>36 à 45</td>\n",
       "    </tr>\n",
       "    <tr>\n",
       "      <th>1</th>\n",
       "      <td>1_251</td>\n",
       "      <td>s_158752</td>\n",
       "      <td>c_8534</td>\n",
       "      <td>2022-02-02</td>\n",
       "      <td>2022</td>\n",
       "      <td>2</td>\n",
       "      <td>2022-02</td>\n",
       "      <td>15.99</td>\n",
       "      <td>1.0</td>\n",
       "      <td>m</td>\n",
       "      <td>1988</td>\n",
       "      <td>34</td>\n",
       "      <td>26 à 35</td>\n",
       "    </tr>\n",
       "  </tbody>\n",
       "</table>\n",
       "</div>"
      ],
      "text/plain": [
       "  id_prod session_id client_id       date  annee  mois annee_mois  price  \\\n",
       "0  0_1518   s_211425     c_103 2022-05-20   2022     5    2022-05   4.18   \n",
       "1   1_251   s_158752    c_8534 2022-02-02   2022     2    2022-02  15.99   \n",
       "\n",
       "   categ sex  birth  age tranche_age  \n",
       "0    0.0   f   1986   36     36 à 45  \n",
       "1    1.0   m   1988   34     26 à 35  "
      ]
     },
     "execution_count": 150,
     "metadata": {},
     "output_type": "execute_result"
    }
   ],
   "source": [
    "df.head(2)"
   ]
  },
  {
   "cell_type": "code",
   "execution_count": 151,
   "id": "12729aff",
   "metadata": {},
   "outputs": [],
   "source": [
    "# fin 1er notebook"
   ]
  },
  {
   "cell_type": "code",
   "execution_count": 152,
   "id": "633986b0",
   "metadata": {},
   "outputs": [],
   "source": [
    "df.to_csv(r'C:\\Users\\BDS CREATIONS\\Desktop\\OPEN CLASS ROOM\\PROJETS OCR\\PROJET 6\\df.csv', index = False ,header= True)"
   ]
  },
  {
   "cell_type": "code",
   "execution_count": null,
   "id": "7458b5cd",
   "metadata": {},
   "outputs": [],
   "source": []
  }
 ],
 "metadata": {
  "kernelspec": {
   "display_name": "Python 3 (ipykernel)",
   "language": "python",
   "name": "python3"
  },
  "language_info": {
   "codemirror_mode": {
    "name": "ipython",
    "version": 3
   },
   "file_extension": ".py",
   "mimetype": "text/x-python",
   "name": "python",
   "nbconvert_exporter": "python",
   "pygments_lexer": "ipython3",
   "version": "3.9.7"
  },
  "toc": {
   "base_numbering": 1,
   "nav_menu": {},
   "number_sections": true,
   "sideBar": true,
   "skip_h1_title": false,
   "title_cell": "Table of Contents",
   "title_sidebar": "Contents",
   "toc_cell": false,
   "toc_position": {
    "height": "calc(100% - 180px)",
    "left": "10px",
    "top": "150px",
    "width": "194.825px"
   },
   "toc_section_display": true,
   "toc_window_display": true
  }
 },
 "nbformat": 4,
 "nbformat_minor": 5
}
